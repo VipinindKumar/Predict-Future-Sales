{
  "cells": [
    {
      "metadata": {
        "_uuid": "8f2839f25d086af736a60e9eeb907d3b93b6e0e5",
        "_cell_guid": "b1076dfc-b9ad-4769-8c92-a6c4dae69d19",
        "trusted": true
      },
      "cell_type": "code",
      "source": "# This Python 3 environment comes with many helpful analytics libraries installed\n# It is defined by the kaggle/python docker image: https://github.com/kaggle/docker-python\n# For example, here's several helpful packages to load in \n\nimport numpy as np # linear algebra\nimport pandas as pd # data processing, CSV file I/O (e.g. pd.read_csv)\n\n# Input data files are available in the \"../input/\" directory.\n# For example, running this (by clicking run or pressing Shift+Enter) will list the files in the input directory\n\nimport os\nprint(os.listdir(\"../input\"))\n\n# Any results you write to the current directory are saved as output.\n\nitems = pd.read_csv('../input/items.csv')\ntest = pd.read_csv('../input/test.csv')\nsales = pd.read_csv('../input/sales_train.csv')\nitem_categories = pd.read_csv('../input/item_categories.csv')\nshops = pd.read_csv('../input/shops.csv')\n\nsales['date'] = pd.to_datetime(sales['date'], format='%d.%m.%Y')\n\nsu_sub = pd.read_csv('../input/sample_submission.csv')\n\nITEM_MAX = su_sub.ID.max()",
      "execution_count": 1,
      "outputs": [
        {
          "output_type": "stream",
          "text": "['items.csv', 'sample_submission.csv', 'test.csv', 'sales_train.csv', 'item_categories.csv', 'shops.csv']\n",
          "name": "stdout"
        }
      ]
    },
    {
      "metadata": {
        "_cell_guid": "79c7e3d0-c299-4dcb-8224-4455121ee9b0",
        "_uuid": "d629ff2d2480ee46fbb7e2d37f6b5fab8052498a",
        "trusted": true
      },
      "cell_type": "code",
      "source": "items = pd.read_csv('../input/items.csv')\ntest = pd.read_csv('../input/test.csv')\nsales = pd.read_csv('../input/sales_train.csv')\nitem_categories = pd.read_csv('../input/item_categories.csv')\nshops = pd.read_csv('../input/shops.csv')\n\nprint('items shape           : {}'.format(items.shape))\nprint('sales shape     : {}'.format(sales.shape))\nprint('item_categories shape : {}'.format(item_categories.shape))\nprint('shops shape           : {}'.format(shops.shape))\nprint('test shape            : {}'.format(test.shape))",
      "execution_count": 2,
      "outputs": [
        {
          "output_type": "stream",
          "text": "items shape           : (22170, 3)\nsales shape     : (2935849, 6)\nitem_categories shape : (84, 2)\nshops shape           : (60, 2)\ntest shape            : (214200, 3)\n",
          "name": "stdout"
        }
      ]
    },
    {
      "metadata": {
        "trusted": true,
        "_uuid": "a240c65421560d3c7554ae038ef954489d45ec8c"
      },
      "cell_type": "code",
      "source": "print('items columns            :  {}'.format(tuple(items.columns)))\nprint('sales columns      :  {}'.format(tuple(sales.columns)))\nprint('item_categories columns  :  {}'.format(tuple(item_categories.columns)))\nprint('shops columns            :  {}'.format(tuple(shops.columns)))\nprint('test columns             :  {}'.format(tuple(test.columns)))",
      "execution_count": 3,
      "outputs": [
        {
          "output_type": "stream",
          "text": "items columns            :  ('item_name', 'item_id', 'item_category_id')\nsales columns      :  ('date', 'date_block_num', 'shop_id', 'item_id', 'item_price', 'item_cnt_day')\nitem_categories columns  :  ('item_category_name', 'item_category_id')\nshops columns            :  ('shop_name', 'shop_id')\ntest columns             :  ('ID', 'shop_id', 'item_id')\n",
          "name": "stdout"
        }
      ]
    },
    {
      "metadata": {
        "trusted": true,
        "_uuid": "8ec069f7b868d87d9fddf5770c2e095e397e329f"
      },
      "cell_type": "code",
      "source": "su_sub = pd.read_csv('../input/sample_submission.csv')\n\nITEM_MAX = su_sub.ID.max()\n\nsu_sub.head()",
      "execution_count": 4,
      "outputs": [
        {
          "output_type": "execute_result",
          "execution_count": 4,
          "data": {
            "text/plain": "   ID  item_cnt_month\n0   0             0.5\n1   1             0.5\n2   2             0.5\n3   3             0.5\n4   4             0.5",
            "text/html": "<div>\n<style scoped>\n    .dataframe tbody tr th:only-of-type {\n        vertical-align: middle;\n    }\n\n    .dataframe tbody tr th {\n        vertical-align: top;\n    }\n\n    .dataframe thead th {\n        text-align: right;\n    }\n</style>\n<table border=\"1\" class=\"dataframe\">\n  <thead>\n    <tr style=\"text-align: right;\">\n      <th></th>\n      <th>ID</th>\n      <th>item_cnt_month</th>\n    </tr>\n  </thead>\n  <tbody>\n    <tr>\n      <th>0</th>\n      <td>0</td>\n      <td>0.5</td>\n    </tr>\n    <tr>\n      <th>1</th>\n      <td>1</td>\n      <td>0.5</td>\n    </tr>\n    <tr>\n      <th>2</th>\n      <td>2</td>\n      <td>0.5</td>\n    </tr>\n    <tr>\n      <th>3</th>\n      <td>3</td>\n      <td>0.5</td>\n    </tr>\n    <tr>\n      <th>4</th>\n      <td>4</td>\n      <td>0.5</td>\n    </tr>\n  </tbody>\n</table>\n</div>"
          },
          "metadata": {}
        }
      ]
    },
    {
      "metadata": {
        "trusted": true,
        "_uuid": "f6fdb05daa66a6de18468565721c5fcf08bcb04c"
      },
      "cell_type": "code",
      "source": "items.head()",
      "execution_count": 5,
      "outputs": [
        {
          "output_type": "execute_result",
          "execution_count": 5,
          "data": {
            "text/plain": "                                           item_name        ...         item_category_id\n0          ! ВО ВЛАСТИ НАВАЖДЕНИЯ (ПЛАСТ.)         D        ...                       40\n1  !ABBYY FineReader 12 Professional Edition Full...        ...                       76\n2      ***В ЛУЧАХ СЛАВЫ   (UNV)                    D        ...                       40\n3    ***ГОЛУБАЯ ВОЛНА  (Univ)                      D        ...                       40\n4        ***КОРОБКА (СТЕКЛО)                       D        ...                       40\n\n[5 rows x 3 columns]",
            "text/html": "<div>\n<style scoped>\n    .dataframe tbody tr th:only-of-type {\n        vertical-align: middle;\n    }\n\n    .dataframe tbody tr th {\n        vertical-align: top;\n    }\n\n    .dataframe thead th {\n        text-align: right;\n    }\n</style>\n<table border=\"1\" class=\"dataframe\">\n  <thead>\n    <tr style=\"text-align: right;\">\n      <th></th>\n      <th>item_name</th>\n      <th>item_id</th>\n      <th>item_category_id</th>\n    </tr>\n  </thead>\n  <tbody>\n    <tr>\n      <th>0</th>\n      <td>! ВО ВЛАСТИ НАВАЖДЕНИЯ (ПЛАСТ.)         D</td>\n      <td>0</td>\n      <td>40</td>\n    </tr>\n    <tr>\n      <th>1</th>\n      <td>!ABBYY FineReader 12 Professional Edition Full...</td>\n      <td>1</td>\n      <td>76</td>\n    </tr>\n    <tr>\n      <th>2</th>\n      <td>***В ЛУЧАХ СЛАВЫ   (UNV)                    D</td>\n      <td>2</td>\n      <td>40</td>\n    </tr>\n    <tr>\n      <th>3</th>\n      <td>***ГОЛУБАЯ ВОЛНА  (Univ)                      D</td>\n      <td>3</td>\n      <td>40</td>\n    </tr>\n    <tr>\n      <th>4</th>\n      <td>***КОРОБКА (СТЕКЛО)                       D</td>\n      <td>4</td>\n      <td>40</td>\n    </tr>\n  </tbody>\n</table>\n</div>"
          },
          "metadata": {}
        }
      ]
    },
    {
      "metadata": {
        "trusted": true,
        "_uuid": "a6bc0738c5bedeb96d13a33e94f7753b0f4f1ab9"
      },
      "cell_type": "code",
      "source": "sales.head()",
      "execution_count": 6,
      "outputs": [
        {
          "output_type": "execute_result",
          "execution_count": 6,
          "data": {
            "text/plain": "         date  date_block_num      ...       item_price  item_cnt_day\n0  02.01.2013               0      ...           999.00           1.0\n1  03.01.2013               0      ...           899.00           1.0\n2  05.01.2013               0      ...           899.00          -1.0\n3  06.01.2013               0      ...          1709.05           1.0\n4  15.01.2013               0      ...          1099.00           1.0\n\n[5 rows x 6 columns]",
            "text/html": "<div>\n<style scoped>\n    .dataframe tbody tr th:only-of-type {\n        vertical-align: middle;\n    }\n\n    .dataframe tbody tr th {\n        vertical-align: top;\n    }\n\n    .dataframe thead th {\n        text-align: right;\n    }\n</style>\n<table border=\"1\" class=\"dataframe\">\n  <thead>\n    <tr style=\"text-align: right;\">\n      <th></th>\n      <th>date</th>\n      <th>date_block_num</th>\n      <th>shop_id</th>\n      <th>item_id</th>\n      <th>item_price</th>\n      <th>item_cnt_day</th>\n    </tr>\n  </thead>\n  <tbody>\n    <tr>\n      <th>0</th>\n      <td>02.01.2013</td>\n      <td>0</td>\n      <td>59</td>\n      <td>22154</td>\n      <td>999.00</td>\n      <td>1.0</td>\n    </tr>\n    <tr>\n      <th>1</th>\n      <td>03.01.2013</td>\n      <td>0</td>\n      <td>25</td>\n      <td>2552</td>\n      <td>899.00</td>\n      <td>1.0</td>\n    </tr>\n    <tr>\n      <th>2</th>\n      <td>05.01.2013</td>\n      <td>0</td>\n      <td>25</td>\n      <td>2552</td>\n      <td>899.00</td>\n      <td>-1.0</td>\n    </tr>\n    <tr>\n      <th>3</th>\n      <td>06.01.2013</td>\n      <td>0</td>\n      <td>25</td>\n      <td>2554</td>\n      <td>1709.05</td>\n      <td>1.0</td>\n    </tr>\n    <tr>\n      <th>4</th>\n      <td>15.01.2013</td>\n      <td>0</td>\n      <td>25</td>\n      <td>2555</td>\n      <td>1099.00</td>\n      <td>1.0</td>\n    </tr>\n  </tbody>\n</table>\n</div>"
          },
          "metadata": {}
        }
      ]
    },
    {
      "metadata": {
        "trusted": true,
        "_uuid": "0298716350e312a31fd14992203d3dcac34c8a95"
      },
      "cell_type": "code",
      "source": "item_categories.head()",
      "execution_count": 7,
      "outputs": [
        {
          "output_type": "execute_result",
          "execution_count": 7,
          "data": {
            "text/plain": "        item_category_name  item_category_id\n0  PC - Гарнитуры/Наушники                 0\n1         Аксессуары - PS2                 1\n2         Аксессуары - PS3                 2\n3         Аксессуары - PS4                 3\n4         Аксессуары - PSP                 4",
            "text/html": "<div>\n<style scoped>\n    .dataframe tbody tr th:only-of-type {\n        vertical-align: middle;\n    }\n\n    .dataframe tbody tr th {\n        vertical-align: top;\n    }\n\n    .dataframe thead th {\n        text-align: right;\n    }\n</style>\n<table border=\"1\" class=\"dataframe\">\n  <thead>\n    <tr style=\"text-align: right;\">\n      <th></th>\n      <th>item_category_name</th>\n      <th>item_category_id</th>\n    </tr>\n  </thead>\n  <tbody>\n    <tr>\n      <th>0</th>\n      <td>PC - Гарнитуры/Наушники</td>\n      <td>0</td>\n    </tr>\n    <tr>\n      <th>1</th>\n      <td>Аксессуары - PS2</td>\n      <td>1</td>\n    </tr>\n    <tr>\n      <th>2</th>\n      <td>Аксессуары - PS3</td>\n      <td>2</td>\n    </tr>\n    <tr>\n      <th>3</th>\n      <td>Аксессуары - PS4</td>\n      <td>3</td>\n    </tr>\n    <tr>\n      <th>4</th>\n      <td>Аксессуары - PSP</td>\n      <td>4</td>\n    </tr>\n  </tbody>\n</table>\n</div>"
          },
          "metadata": {}
        }
      ]
    },
    {
      "metadata": {
        "trusted": true,
        "_uuid": "9b0779f1b9f3fa657796eb57dc16f2887af88cec"
      },
      "cell_type": "code",
      "source": "shops.head()",
      "execution_count": 8,
      "outputs": [
        {
          "output_type": "execute_result",
          "execution_count": 8,
          "data": {
            "text/plain": "                        shop_name  shop_id\n0   !Якутск Орджоникидзе, 56 фран        0\n1   !Якутск ТЦ \"Центральный\" фран        1\n2                Адыгея ТЦ \"Мега\"        2\n3  Балашиха ТРК \"Октябрь-Киномир\"        3\n4        Волжский ТЦ \"Волга Молл\"        4",
            "text/html": "<div>\n<style scoped>\n    .dataframe tbody tr th:only-of-type {\n        vertical-align: middle;\n    }\n\n    .dataframe tbody tr th {\n        vertical-align: top;\n    }\n\n    .dataframe thead th {\n        text-align: right;\n    }\n</style>\n<table border=\"1\" class=\"dataframe\">\n  <thead>\n    <tr style=\"text-align: right;\">\n      <th></th>\n      <th>shop_name</th>\n      <th>shop_id</th>\n    </tr>\n  </thead>\n  <tbody>\n    <tr>\n      <th>0</th>\n      <td>!Якутск Орджоникидзе, 56 фран</td>\n      <td>0</td>\n    </tr>\n    <tr>\n      <th>1</th>\n      <td>!Якутск ТЦ \"Центральный\" фран</td>\n      <td>1</td>\n    </tr>\n    <tr>\n      <th>2</th>\n      <td>Адыгея ТЦ \"Мега\"</td>\n      <td>2</td>\n    </tr>\n    <tr>\n      <th>3</th>\n      <td>Балашиха ТРК \"Октябрь-Киномир\"</td>\n      <td>3</td>\n    </tr>\n    <tr>\n      <th>4</th>\n      <td>Волжский ТЦ \"Волга Молл\"</td>\n      <td>4</td>\n    </tr>\n  </tbody>\n</table>\n</div>"
          },
          "metadata": {}
        }
      ]
    },
    {
      "metadata": {
        "trusted": true,
        "_uuid": "9d0dd4d872ae16f548bb2daca09ab23523140d78"
      },
      "cell_type": "code",
      "source": "test.head()",
      "execution_count": 9,
      "outputs": [
        {
          "output_type": "execute_result",
          "execution_count": 9,
          "data": {
            "text/plain": "   ID  shop_id  item_id\n0   0        5     5037\n1   1        5     5320\n2   2        5     5233\n3   3        5     5232\n4   4        5     5268",
            "text/html": "<div>\n<style scoped>\n    .dataframe tbody tr th:only-of-type {\n        vertical-align: middle;\n    }\n\n    .dataframe tbody tr th {\n        vertical-align: top;\n    }\n\n    .dataframe thead th {\n        text-align: right;\n    }\n</style>\n<table border=\"1\" class=\"dataframe\">\n  <thead>\n    <tr style=\"text-align: right;\">\n      <th></th>\n      <th>ID</th>\n      <th>shop_id</th>\n      <th>item_id</th>\n    </tr>\n  </thead>\n  <tbody>\n    <tr>\n      <th>0</th>\n      <td>0</td>\n      <td>5</td>\n      <td>5037</td>\n    </tr>\n    <tr>\n      <th>1</th>\n      <td>1</td>\n      <td>5</td>\n      <td>5320</td>\n    </tr>\n    <tr>\n      <th>2</th>\n      <td>2</td>\n      <td>5</td>\n      <td>5233</td>\n    </tr>\n    <tr>\n      <th>3</th>\n      <td>3</td>\n      <td>5</td>\n      <td>5232</td>\n    </tr>\n    <tr>\n      <th>4</th>\n      <td>4</td>\n      <td>5</td>\n      <td>5268</td>\n    </tr>\n  </tbody>\n</table>\n</div>"
          },
          "metadata": {}
        }
      ]
    },
    {
      "metadata": {
        "trusted": true,
        "_uuid": "da750fb493d221365fd8ad3df536118408dc29df"
      },
      "cell_type": "code",
      "source": "sales.sample(10)",
      "execution_count": 10,
      "outputs": [
        {
          "output_type": "execute_result",
          "execution_count": 10,
          "data": {
            "text/plain": "               date  date_block_num      ...       item_price  item_cnt_day\n2290720  24.12.2014              23      ...            249.0           1.0\n575219   01.06.2013               5      ...            419.0           1.0\n2118218  02.11.2014              22      ...            449.0           1.0\n71375    25.01.2013               0      ...            149.0           1.0\n1562901  22.04.2014              15      ...            199.0           1.0\n2821515  23.08.2015              31      ...            149.0           2.0\n2704492  05.06.2015              29      ...            399.0           1.0\n651497   24.07.2013               6      ...            199.0           2.0\n703497   23.07.2013               6      ...            599.0           1.0\n769747   10.08.2013               7      ...            299.0           1.0\n\n[10 rows x 6 columns]",
            "text/html": "<div>\n<style scoped>\n    .dataframe tbody tr th:only-of-type {\n        vertical-align: middle;\n    }\n\n    .dataframe tbody tr th {\n        vertical-align: top;\n    }\n\n    .dataframe thead th {\n        text-align: right;\n    }\n</style>\n<table border=\"1\" class=\"dataframe\">\n  <thead>\n    <tr style=\"text-align: right;\">\n      <th></th>\n      <th>date</th>\n      <th>date_block_num</th>\n      <th>shop_id</th>\n      <th>item_id</th>\n      <th>item_price</th>\n      <th>item_cnt_day</th>\n    </tr>\n  </thead>\n  <tbody>\n    <tr>\n      <th>2290720</th>\n      <td>24.12.2014</td>\n      <td>23</td>\n      <td>4</td>\n      <td>19789</td>\n      <td>249.0</td>\n      <td>1.0</td>\n    </tr>\n    <tr>\n      <th>575219</th>\n      <td>01.06.2013</td>\n      <td>5</td>\n      <td>3</td>\n      <td>4910</td>\n      <td>419.0</td>\n      <td>1.0</td>\n    </tr>\n    <tr>\n      <th>2118218</th>\n      <td>02.11.2014</td>\n      <td>22</td>\n      <td>28</td>\n      <td>15503</td>\n      <td>449.0</td>\n      <td>1.0</td>\n    </tr>\n    <tr>\n      <th>71375</th>\n      <td>25.01.2013</td>\n      <td>0</td>\n      <td>31</td>\n      <td>14432</td>\n      <td>149.0</td>\n      <td>1.0</td>\n    </tr>\n    <tr>\n      <th>1562901</th>\n      <td>22.04.2014</td>\n      <td>15</td>\n      <td>57</td>\n      <td>18452</td>\n      <td>199.0</td>\n      <td>1.0</td>\n    </tr>\n    <tr>\n      <th>2821515</th>\n      <td>23.08.2015</td>\n      <td>31</td>\n      <td>31</td>\n      <td>10216</td>\n      <td>149.0</td>\n      <td>2.0</td>\n    </tr>\n    <tr>\n      <th>2704492</th>\n      <td>05.06.2015</td>\n      <td>29</td>\n      <td>4</td>\n      <td>19116</td>\n      <td>399.0</td>\n      <td>1.0</td>\n    </tr>\n    <tr>\n      <th>651497</th>\n      <td>24.07.2013</td>\n      <td>6</td>\n      <td>37</td>\n      <td>11669</td>\n      <td>199.0</td>\n      <td>2.0</td>\n    </tr>\n    <tr>\n      <th>703497</th>\n      <td>23.07.2013</td>\n      <td>6</td>\n      <td>58</td>\n      <td>2934</td>\n      <td>599.0</td>\n      <td>1.0</td>\n    </tr>\n    <tr>\n      <th>769747</th>\n      <td>10.08.2013</td>\n      <td>7</td>\n      <td>57</td>\n      <td>2641</td>\n      <td>299.0</td>\n      <td>1.0</td>\n    </tr>\n  </tbody>\n</table>\n</div>"
          },
          "metadata": {}
        }
      ]
    },
    {
      "metadata": {
        "trusted": true,
        "_uuid": "565558486bd2d616009fa6c5dad3fe8615d3a1a2"
      },
      "cell_type": "code",
      "source": "sales['date'].dtype",
      "execution_count": 11,
      "outputs": [
        {
          "output_type": "execute_result",
          "execution_count": 11,
          "data": {
            "text/plain": "dtype('O')"
          },
          "metadata": {}
        }
      ]
    },
    {
      "metadata": {
        "trusted": true,
        "_uuid": "bde599fb32322141f061bc9a43c914e64c251caa"
      },
      "cell_type": "code",
      "source": "sales['date'] = pd.to_datetime(sales['date'], format='%d.%m.%Y')\nsales.sample(10)",
      "execution_count": 12,
      "outputs": [
        {
          "output_type": "execute_result",
          "execution_count": 12,
          "data": {
            "text/plain": "              date  date_block_num      ...       item_price  item_cnt_day\n1185761 2013-12-24              11      ...            699.0           1.0\n2726375 2015-07-19              30      ...           1199.0           1.0\n2727123 2015-07-08              30      ...            299.0           2.0\n616118  2013-06-28               5      ...            499.0           1.0\n996573  2013-10-26               9      ...            479.0           1.0\n2775758 2015-08-07              31      ...            349.0           1.0\n955013  2013-10-12               9      ...            599.0           2.0\n1280000 2014-01-23              12      ...            199.0           1.0\n1470982 2014-03-25              14      ...           1199.0           1.0\n2593186 2015-04-16              27      ...            799.0           1.0\n\n[10 rows x 6 columns]",
            "text/html": "<div>\n<style scoped>\n    .dataframe tbody tr th:only-of-type {\n        vertical-align: middle;\n    }\n\n    .dataframe tbody tr th {\n        vertical-align: top;\n    }\n\n    .dataframe thead th {\n        text-align: right;\n    }\n</style>\n<table border=\"1\" class=\"dataframe\">\n  <thead>\n    <tr style=\"text-align: right;\">\n      <th></th>\n      <th>date</th>\n      <th>date_block_num</th>\n      <th>shop_id</th>\n      <th>item_id</th>\n      <th>item_price</th>\n      <th>item_cnt_day</th>\n    </tr>\n  </thead>\n  <tbody>\n    <tr>\n      <th>1185761</th>\n      <td>2013-12-24</td>\n      <td>11</td>\n      <td>19</td>\n      <td>16056</td>\n      <td>699.0</td>\n      <td>1.0</td>\n    </tr>\n    <tr>\n      <th>2726375</th>\n      <td>2015-07-19</td>\n      <td>30</td>\n      <td>15</td>\n      <td>2422</td>\n      <td>1199.0</td>\n      <td>1.0</td>\n    </tr>\n    <tr>\n      <th>2727123</th>\n      <td>2015-07-08</td>\n      <td>30</td>\n      <td>18</td>\n      <td>4706</td>\n      <td>299.0</td>\n      <td>2.0</td>\n    </tr>\n    <tr>\n      <th>616118</th>\n      <td>2013-06-28</td>\n      <td>5</td>\n      <td>57</td>\n      <td>16901</td>\n      <td>499.0</td>\n      <td>1.0</td>\n    </tr>\n    <tr>\n      <th>996573</th>\n      <td>2013-10-26</td>\n      <td>9</td>\n      <td>59</td>\n      <td>15446</td>\n      <td>479.0</td>\n      <td>1.0</td>\n    </tr>\n    <tr>\n      <th>2775758</th>\n      <td>2015-08-07</td>\n      <td>31</td>\n      <td>42</td>\n      <td>2140</td>\n      <td>349.0</td>\n      <td>1.0</td>\n    </tr>\n    <tr>\n      <th>955013</th>\n      <td>2013-10-12</td>\n      <td>9</td>\n      <td>31</td>\n      <td>10658</td>\n      <td>599.0</td>\n      <td>2.0</td>\n    </tr>\n    <tr>\n      <th>1280000</th>\n      <td>2014-01-23</td>\n      <td>12</td>\n      <td>57</td>\n      <td>14841</td>\n      <td>199.0</td>\n      <td>1.0</td>\n    </tr>\n    <tr>\n      <th>1470982</th>\n      <td>2014-03-25</td>\n      <td>14</td>\n      <td>43</td>\n      <td>1459</td>\n      <td>1199.0</td>\n      <td>1.0</td>\n    </tr>\n    <tr>\n      <th>2593186</th>\n      <td>2015-04-16</td>\n      <td>27</td>\n      <td>59</td>\n      <td>16167</td>\n      <td>799.0</td>\n      <td>1.0</td>\n    </tr>\n  </tbody>\n</table>\n</div>"
          },
          "metadata": {}
        }
      ]
    },
    {
      "metadata": {
        "_uuid": "1a89ae234c333eb83bdebd69e603944f556ca55f"
      },
      "cell_type": "markdown",
      "source": "#### What is date_block_num?"
    },
    {
      "metadata": {
        "trusted": true,
        "_uuid": "7cf58d60ca7ac501aaa51d9afba5fc2bc438cd70"
      },
      "cell_type": "code",
      "source": "sales.date_block_num.value_counts()",
      "execution_count": 13,
      "outputs": [
        {
          "output_type": "execute_result",
          "execution_count": 13,
          "data": {
            "text/plain": "11    143246\n23    130786\n2     121347\n0     115690\n1     108613\n7     104772\n6     100548\n5     100403\n12     99349\n10     96736\n8      96137\n9      94202\n3      94109\n14     92733\n4      91759\n13     89830\n24     88522\n19     86614\n22     86428\n17     82408\n21     79361\n18     78760\n16     78529\n15     77906\n20     73157\n25     71808\n26     69977\n31     57029\n27     56274\n30     55549\n29     54617\n28     54548\n33     53514\n32     50588\nName: date_block_num, dtype: int64"
          },
          "metadata": {}
        }
      ]
    },
    {
      "metadata": {
        "trusted": true,
        "_uuid": "bacd653b2411f09a7911f283e8568d0a9234439c"
      },
      "cell_type": "code",
      "source": "sales.date[sales.date_block_num == 0]",
      "execution_count": 14,
      "outputs": [
        {
          "output_type": "execute_result",
          "execution_count": 14,
          "data": {
            "text/plain": "0        2013-01-02\n1        2013-01-03\n2        2013-01-05\n3        2013-01-06\n4        2013-01-15\n5        2013-01-10\n6        2013-01-02\n7        2013-01-04\n8        2013-01-11\n9        2013-01-03\n10       2013-01-03\n11       2013-01-05\n12       2013-01-07\n13       2013-01-08\n14       2013-01-10\n15       2013-01-11\n16       2013-01-13\n17       2013-01-16\n18       2013-01-26\n19       2013-01-27\n20       2013-01-09\n21       2013-01-16\n22       2013-01-27\n23       2013-01-27\n24       2013-01-29\n25       2013-01-27\n26       2013-01-06\n27       2013-01-26\n28       2013-01-02\n29       2013-01-06\n            ...    \n115660   2013-01-21\n115661   2013-01-12\n115662   2013-01-08\n115663   2013-01-05\n115664   2013-01-06\n115665   2013-01-04\n115666   2013-01-11\n115667   2013-01-24\n115668   2013-01-18\n115669   2013-01-20\n115670   2013-01-29\n115671   2013-01-17\n115672   2013-01-12\n115673   2013-01-08\n115674   2013-01-04\n115675   2013-01-03\n115676   2013-01-02\n115677   2013-01-14\n115678   2013-01-15\n115679   2013-01-12\n115680   2013-01-05\n115681   2013-01-13\n115682   2013-01-28\n115683   2013-01-21\n115684   2013-01-11\n115685   2013-01-19\n115686   2013-01-18\n115687   2013-01-26\n115688   2013-01-31\n115689   2013-01-07\nName: date, Length: 115690, dtype: datetime64[ns]"
          },
          "metadata": {}
        }
      ]
    },
    {
      "metadata": {
        "trusted": true,
        "_uuid": "d28cc3332f3fc59971208d6fc0c0e74a1256af19"
      },
      "cell_type": "markdown",
      "source": "It is a number assigned to each and every month "
    },
    {
      "metadata": {
        "trusted": true,
        "_uuid": "29e73dac73495661da9fa6c8074ff34bb2e7e589"
      },
      "cell_type": "code",
      "source": "sales.head()",
      "execution_count": 15,
      "outputs": [
        {
          "output_type": "execute_result",
          "execution_count": 15,
          "data": {
            "text/plain": "        date  date_block_num      ...       item_price  item_cnt_day\n0 2013-01-02               0      ...           999.00           1.0\n1 2013-01-03               0      ...           899.00           1.0\n2 2013-01-05               0      ...           899.00          -1.0\n3 2013-01-06               0      ...          1709.05           1.0\n4 2013-01-15               0      ...          1099.00           1.0\n\n[5 rows x 6 columns]",
            "text/html": "<div>\n<style scoped>\n    .dataframe tbody tr th:only-of-type {\n        vertical-align: middle;\n    }\n\n    .dataframe tbody tr th {\n        vertical-align: top;\n    }\n\n    .dataframe thead th {\n        text-align: right;\n    }\n</style>\n<table border=\"1\" class=\"dataframe\">\n  <thead>\n    <tr style=\"text-align: right;\">\n      <th></th>\n      <th>date</th>\n      <th>date_block_num</th>\n      <th>shop_id</th>\n      <th>item_id</th>\n      <th>item_price</th>\n      <th>item_cnt_day</th>\n    </tr>\n  </thead>\n  <tbody>\n    <tr>\n      <th>0</th>\n      <td>2013-01-02</td>\n      <td>0</td>\n      <td>59</td>\n      <td>22154</td>\n      <td>999.00</td>\n      <td>1.0</td>\n    </tr>\n    <tr>\n      <th>1</th>\n      <td>2013-01-03</td>\n      <td>0</td>\n      <td>25</td>\n      <td>2552</td>\n      <td>899.00</td>\n      <td>1.0</td>\n    </tr>\n    <tr>\n      <th>2</th>\n      <td>2013-01-05</td>\n      <td>0</td>\n      <td>25</td>\n      <td>2552</td>\n      <td>899.00</td>\n      <td>-1.0</td>\n    </tr>\n    <tr>\n      <th>3</th>\n      <td>2013-01-06</td>\n      <td>0</td>\n      <td>25</td>\n      <td>2554</td>\n      <td>1709.05</td>\n      <td>1.0</td>\n    </tr>\n    <tr>\n      <th>4</th>\n      <td>2013-01-15</td>\n      <td>0</td>\n      <td>25</td>\n      <td>2555</td>\n      <td>1099.00</td>\n      <td>1.0</td>\n    </tr>\n  </tbody>\n</table>\n</div>"
          },
          "metadata": {}
        }
      ]
    },
    {
      "metadata": {
        "_uuid": "8de5a4839df8e506265ddb1135fbf0e4326bd703"
      },
      "cell_type": "markdown",
      "source": "#### shop_id"
    },
    {
      "metadata": {
        "trusted": true,
        "_uuid": "e1966c76cb00476363de1813ba2eee59e852067c"
      },
      "cell_type": "code",
      "source": "sales.shop_id.value_counts().sort_index().plot(ylim=(0, 300000))",
      "execution_count": 16,
      "outputs": [
        {
          "output_type": "execute_result",
          "execution_count": 16,
          "data": {
            "text/plain": "<matplotlib.axes._subplots.AxesSubplot at 0x7fe7ef2724e0>"
          },
          "metadata": {}
        },
        {
          "output_type": "display_data",
          "data": {
            "text/plain": "<Figure size 432x288 with 1 Axes>",
            "image/png": "[encoded data removed]"
          },
          "metadata": {
            "needs_background": "light"
          }
        }
      ]
    },
    {
      "metadata": {
        "trusted": true,
        "_uuid": "ac16be5ded71bfd2c031e96ad028685ae283e8be"
      },
      "cell_type": "code",
      "source": "len(sales.shop_id[sales.shop_id == 36]), len(sales.shop_id[sales.shop_id == 11])",
      "execution_count": 17,
      "outputs": [
        {
          "output_type": "execute_result",
          "execution_count": 17,
          "data": {
            "text/plain": "(306, 499)"
          },
          "metadata": {}
        }
      ]
    },
    {
      "metadata": {
        "_uuid": "a98cfbc9f6fd35511c0a8280635f803c0b970307"
      },
      "cell_type": "markdown",
      "source": "#### item_id"
    },
    {
      "metadata": {
        "trusted": true,
        "_uuid": "c6068efe4823283033cfe794f0b5ce4a85b39003"
      },
      "cell_type": "code",
      "source": "sales.item_id.value_counts().sort_index().plot(ylim=(0,35000))",
      "execution_count": 18,
      "outputs": [
        {
          "output_type": "execute_result",
          "execution_count": 18,
          "data": {
            "text/plain": "<matplotlib.axes._subplots.AxesSubplot at 0x7fe7ef0b6940>"
          },
          "metadata": {}
        },
        {
          "output_type": "display_data",
          "data": {
            "text/plain": "<Figure size 432x288 with 1 Axes>",
            "image/png": "[encoded data removed]"
          },
          "metadata": {
            "needs_background": "light"
          }
        }
      ]
    },
    {
      "metadata": {
        "trusted": true,
        "_uuid": "0e73237e2c564f6a74112be39b9433f3bdccbb2c"
      },
      "cell_type": "code",
      "source": "sales.head()",
      "execution_count": 19,
      "outputs": [
        {
          "output_type": "execute_result",
          "execution_count": 19,
          "data": {
            "text/plain": "        date  date_block_num      ...       item_price  item_cnt_day\n0 2013-01-02               0      ...           999.00           1.0\n1 2013-01-03               0      ...           899.00           1.0\n2 2013-01-05               0      ...           899.00          -1.0\n3 2013-01-06               0      ...          1709.05           1.0\n4 2013-01-15               0      ...          1099.00           1.0\n\n[5 rows x 6 columns]",
            "text/html": "<div>\n<style scoped>\n    .dataframe tbody tr th:only-of-type {\n        vertical-align: middle;\n    }\n\n    .dataframe tbody tr th {\n        vertical-align: top;\n    }\n\n    .dataframe thead th {\n        text-align: right;\n    }\n</style>\n<table border=\"1\" class=\"dataframe\">\n  <thead>\n    <tr style=\"text-align: right;\">\n      <th></th>\n      <th>date</th>\n      <th>date_block_num</th>\n      <th>shop_id</th>\n      <th>item_id</th>\n      <th>item_price</th>\n      <th>item_cnt_day</th>\n    </tr>\n  </thead>\n  <tbody>\n    <tr>\n      <th>0</th>\n      <td>2013-01-02</td>\n      <td>0</td>\n      <td>59</td>\n      <td>22154</td>\n      <td>999.00</td>\n      <td>1.0</td>\n    </tr>\n    <tr>\n      <th>1</th>\n      <td>2013-01-03</td>\n      <td>0</td>\n      <td>25</td>\n      <td>2552</td>\n      <td>899.00</td>\n      <td>1.0</td>\n    </tr>\n    <tr>\n      <th>2</th>\n      <td>2013-01-05</td>\n      <td>0</td>\n      <td>25</td>\n      <td>2552</td>\n      <td>899.00</td>\n      <td>-1.0</td>\n    </tr>\n    <tr>\n      <th>3</th>\n      <td>2013-01-06</td>\n      <td>0</td>\n      <td>25</td>\n      <td>2554</td>\n      <td>1709.05</td>\n      <td>1.0</td>\n    </tr>\n    <tr>\n      <th>4</th>\n      <td>2013-01-15</td>\n      <td>0</td>\n      <td>25</td>\n      <td>2555</td>\n      <td>1099.00</td>\n      <td>1.0</td>\n    </tr>\n  </tbody>\n</table>\n</div>"
          },
          "metadata": {}
        }
      ]
    },
    {
      "metadata": {
        "_uuid": "042e93e594ddeb38d706eac53273ae508dc864be"
      },
      "cell_type": "markdown",
      "source": "#### Add for all item_id in a particular date_block_num\n* to get item_cnt_month"
    },
    {
      "metadata": {
        "trusted": true,
        "_uuid": "d366d01ef7fd4859b8bd67d18d0bb9d817b13c6a"
      },
      "cell_type": "code",
      "source": "sales.groupby(['date_block_num', 'item_id']).item_cnt_day.sum()",
      "execution_count": 20,
      "outputs": [
        {
          "output_type": "execute_result",
          "execution_count": 20,
          "data": {
            "text/plain": "date_block_num  item_id\n0               19           1.0\n                27           7.0\n                28           8.0\n                29           4.0\n                32         299.0\n                33          61.0\n                34           9.0\n                35          78.0\n                40           4.0\n                41           9.0\n                42           2.0\n                43           2.0\n                44           6.0\n                45           8.0\n                46           2.0\n                47           6.0\n                48           7.0\n                49           5.0\n                50           2.0\n                51          13.0\n                52           7.0\n                53           8.0\n                54           6.0\n                55           4.0\n                56           1.0\n                57           1.0\n                59          18.0\n                60           6.0\n                61           2.0\n                63           4.0\n                           ...  \n33              22020        1.0\n                22050        3.0\n                22051        6.0\n                22058        3.0\n                22059        2.0\n                22060        5.0\n                22071        5.0\n                22072        1.0\n                22076        4.0\n                22087       87.0\n                22088      185.0\n                22091       30.0\n                22092       46.0\n                22100      158.0\n                22101       54.0\n                22102      227.0\n                22104       14.0\n                22105       11.0\n                22106        6.0\n                22111        1.0\n                22118        2.0\n                22139        9.0\n                22145       13.0\n                22154        5.0\n                22158        1.0\n                22162       10.0\n                22163       26.0\n                22164       15.0\n                22166       11.0\n                22167       37.0\nName: item_cnt_day, Length: 233912, dtype: float64"
          },
          "metadata": {}
        }
      ]
    },
    {
      "metadata": {
        "_uuid": "b6925c63047405c39a517bc6171605bb9e080505"
      },
      "cell_type": "markdown",
      "source": "#### Take the october 2015, last date_block_num and use it as prediction for submission"
    },
    {
      "metadata": {
        "trusted": true,
        "_uuid": "a887b5fc267f3b9e4805e43526e8011dee0ede59"
      },
      "cell_type": "code",
      "source": "# october 2015, is last date_block_num\nsales.date_block_num.max()",
      "execution_count": 21,
      "outputs": [
        {
          "output_type": "execute_result",
          "execution_count": 21,
          "data": {
            "text/plain": "33"
          },
          "metadata": {}
        }
      ]
    },
    {
      "metadata": {
        "trusted": true,
        "_uuid": "d3f8b13652bb4cf40d223ec9772f7d3297cffe89"
      },
      "cell_type": "code",
      "source": "# take date_block_num == 33, and \n# sum all the items sales and \n# create item_cnt_month for 33, for all item_ids\n\npred = sales[sales.date_block_num == 33].groupby(['shop_id', 'item_id']).item_cnt_day.sum()\npred.head()",
      "execution_count": 22,
      "outputs": [
        {
          "output_type": "execute_result",
          "execution_count": 22,
          "data": {
            "text/plain": "shop_id  item_id\n2        31         1.0\n         486        3.0\n         787        1.0\n         794        1.0\n         968        1.0\nName: item_cnt_day, dtype: float64"
          },
          "metadata": {}
        }
      ]
    },
    {
      "metadata": {
        "trusted": true,
        "_uuid": "6538a6b6226ef57c235aa3e1f7b0377c5eed4994"
      },
      "cell_type": "code",
      "source": "# clip the values into [0,20] range\npred = pred.clip(0, 20)\npred.head()",
      "execution_count": 23,
      "outputs": [
        {
          "output_type": "execute_result",
          "execution_count": 23,
          "data": {
            "text/plain": "shop_id  item_id\n2        31         1.0\n         486        3.0\n         787        1.0\n         794        1.0\n         968        1.0\nName: item_cnt_day, dtype: float64"
          },
          "metadata": {}
        }
      ]
    },
    {
      "metadata": {
        "trusted": true,
        "_uuid": "98703dd8a9e7615d57b004e8bcca50edaededcf1"
      },
      "cell_type": "code",
      "source": "pred = pd.DataFrame(pred)\npred.head()",
      "execution_count": 24,
      "outputs": [
        {
          "output_type": "execute_result",
          "execution_count": 24,
          "data": {
            "text/plain": "                 item_cnt_day\nshop_id item_id              \n2       31                1.0\n        486               3.0\n        787               1.0\n        794               1.0\n        968               1.0",
            "text/html": "<div>\n<style scoped>\n    .dataframe tbody tr th:only-of-type {\n        vertical-align: middle;\n    }\n\n    .dataframe tbody tr th {\n        vertical-align: top;\n    }\n\n    .dataframe thead th {\n        text-align: right;\n    }\n</style>\n<table border=\"1\" class=\"dataframe\">\n  <thead>\n    <tr style=\"text-align: right;\">\n      <th></th>\n      <th></th>\n      <th>item_cnt_day</th>\n    </tr>\n    <tr>\n      <th>shop_id</th>\n      <th>item_id</th>\n      <th></th>\n    </tr>\n  </thead>\n  <tbody>\n    <tr>\n      <th rowspan=\"5\" valign=\"top\">2</th>\n      <th>31</th>\n      <td>1.0</td>\n    </tr>\n    <tr>\n      <th>486</th>\n      <td>3.0</td>\n    </tr>\n    <tr>\n      <th>787</th>\n      <td>1.0</td>\n    </tr>\n    <tr>\n      <th>794</th>\n      <td>1.0</td>\n    </tr>\n    <tr>\n      <th>968</th>\n      <td>1.0</td>\n    </tr>\n  </tbody>\n</table>\n</div>"
          },
          "metadata": {}
        }
      ]
    },
    {
      "metadata": {
        "trusted": true,
        "_uuid": "4a027b36ce13e5d3cba65ad43012a1ccabbf5f8a"
      },
      "cell_type": "code",
      "source": "# Merge test and pred, how='left' keeps all the IDs in left DataFrame\npred2 = pd.merge(test, pred, how='left', on=['shop_id', 'item_id']).fillna(0.)\npred2 = pred2.rename(index=str, columns={'item_cnt_day': 'item_cnt_month'})\npred2.sample(10)",
      "execution_count": 25,
      "outputs": [
        {
          "output_type": "execute_result",
          "execution_count": 25,
          "data": {
            "text/plain": "            ID  shop_id  item_id  item_cnt_month\n49758    49758       31    19041             1.0\n202601  202601       44    20405             0.0\n204781  204781       39    13277             2.0\n108304  108304       50     7669             0.0\n23875    23875        2    14845             0.0\n25189    25189        2    13132             0.0\n183865  183865       34    16788             1.0\n32890    32890       10    16177             0.0\n164689  164689       36    17168             0.0\n123555  123555       52     8704             0.0",
            "text/html": "<div>\n<style scoped>\n    .dataframe tbody tr th:only-of-type {\n        vertical-align: middle;\n    }\n\n    .dataframe tbody tr th {\n        vertical-align: top;\n    }\n\n    .dataframe thead th {\n        text-align: right;\n    }\n</style>\n<table border=\"1\" class=\"dataframe\">\n  <thead>\n    <tr style=\"text-align: right;\">\n      <th></th>\n      <th>ID</th>\n      <th>shop_id</th>\n      <th>item_id</th>\n      <th>item_cnt_month</th>\n    </tr>\n  </thead>\n  <tbody>\n    <tr>\n      <th>49758</th>\n      <td>49758</td>\n      <td>31</td>\n      <td>19041</td>\n      <td>1.0</td>\n    </tr>\n    <tr>\n      <th>202601</th>\n      <td>202601</td>\n      <td>44</td>\n      <td>20405</td>\n      <td>0.0</td>\n    </tr>\n    <tr>\n      <th>204781</th>\n      <td>204781</td>\n      <td>39</td>\n      <td>13277</td>\n      <td>2.0</td>\n    </tr>\n    <tr>\n      <th>108304</th>\n      <td>108304</td>\n      <td>50</td>\n      <td>7669</td>\n      <td>0.0</td>\n    </tr>\n    <tr>\n      <th>23875</th>\n      <td>23875</td>\n      <td>2</td>\n      <td>14845</td>\n      <td>0.0</td>\n    </tr>\n    <tr>\n      <th>25189</th>\n      <td>25189</td>\n      <td>2</td>\n      <td>13132</td>\n      <td>0.0</td>\n    </tr>\n    <tr>\n      <th>183865</th>\n      <td>183865</td>\n      <td>34</td>\n      <td>16788</td>\n      <td>1.0</td>\n    </tr>\n    <tr>\n      <th>32890</th>\n      <td>32890</td>\n      <td>10</td>\n      <td>16177</td>\n      <td>0.0</td>\n    </tr>\n    <tr>\n      <th>164689</th>\n      <td>164689</td>\n      <td>36</td>\n      <td>17168</td>\n      <td>0.0</td>\n    </tr>\n    <tr>\n      <th>123555</th>\n      <td>123555</td>\n      <td>52</td>\n      <td>8704</td>\n      <td>0.0</td>\n    </tr>\n  </tbody>\n</table>\n</div>"
          },
          "metadata": {}
        }
      ]
    },
    {
      "metadata": {
        "trusted": true,
        "_uuid": "60073cfdd4be36329e1c70b51b2dd7e7ac634b45"
      },
      "cell_type": "code",
      "source": "pred2.to_csv('submission.csv', columns=['ID', 'item_cnt_month'], index=False)",
      "execution_count": 26,
      "outputs": []
    },
    {
      "metadata": {
        "_uuid": "11e928f9d8e6c4c0d278521b9143917c89750bbb",
        "trusted": true
      },
      "cell_type": "code",
      "source": "pd.read_csv('submission.csv')",
      "execution_count": 27,
      "outputs": [
        {
          "output_type": "execute_result",
          "execution_count": 27,
          "data": {
            "text/plain": "            ID  item_cnt_month\n0            0             0.0\n1            1             0.0\n2            2             1.0\n3            3             0.0\n4            4             0.0\n5            5             1.0\n6            6             2.0\n7            7             0.0\n8            8             0.0\n9            9             0.0\n10          10             3.0\n11          11             0.0\n12          12             0.0\n13          13             0.0\n14          14             2.0\n15          15             6.0\n16          16             0.0\n17          17             0.0\n18          18             2.0\n19          19             0.0\n20          20             1.0\n21          21             0.0\n22          22             1.0\n23          23             1.0\n24          24             3.0\n25          25             0.0\n26          26             0.0\n27          27             0.0\n28          28             2.0\n29          29             7.0\n...        ...             ...\n214170  214170             0.0\n214171  214171             0.0\n214172  214172             0.0\n214173  214173             0.0\n214174  214174             0.0\n214175  214175             0.0\n214176  214176             0.0\n214177  214177             0.0\n214178  214178             0.0\n214179  214179             0.0\n214180  214180             0.0\n214181  214181             0.0\n214182  214182             0.0\n214183  214183             0.0\n214184  214184             0.0\n214185  214185             0.0\n214186  214186             0.0\n214187  214187             1.0\n214188  214188             0.0\n214189  214189             0.0\n214190  214190             0.0\n214191  214191             0.0\n214192  214192             0.0\n214193  214193             0.0\n214194  214194             0.0\n214195  214195             1.0\n214196  214196             0.0\n214197  214197             0.0\n214198  214198             0.0\n214199  214199             0.0\n\n[214200 rows x 2 columns]",
            "text/html": "<div>\n<style scoped>\n    .dataframe tbody tr th:only-of-type {\n        vertical-align: middle;\n    }\n\n    .dataframe tbody tr th {\n        vertical-align: top;\n    }\n\n    .dataframe thead th {\n        text-align: right;\n    }\n</style>\n<table border=\"1\" class=\"dataframe\">\n  <thead>\n    <tr style=\"text-align: right;\">\n      <th></th>\n      <th>ID</th>\n      <th>item_cnt_month</th>\n    </tr>\n  </thead>\n  <tbody>\n    <tr>\n      <th>0</th>\n      <td>0</td>\n      <td>0.0</td>\n    </tr>\n    <tr>\n      <th>1</th>\n      <td>1</td>\n      <td>0.0</td>\n    </tr>\n    <tr>\n      <th>2</th>\n      <td>2</td>\n      <td>1.0</td>\n    </tr>\n    <tr>\n      <th>3</th>\n      <td>3</td>\n      <td>0.0</td>\n    </tr>\n    <tr>\n      <th>4</th>\n      <td>4</td>\n      <td>0.0</td>\n    </tr>\n    <tr>\n      <th>5</th>\n      <td>5</td>\n      <td>1.0</td>\n    </tr>\n    <tr>\n      <th>6</th>\n      <td>6</td>\n      <td>2.0</td>\n    </tr>\n    <tr>\n      <th>7</th>\n      <td>7</td>\n      <td>0.0</td>\n    </tr>\n    <tr>\n      <th>8</th>\n      <td>8</td>\n      <td>0.0</td>\n    </tr>\n    <tr>\n      <th>9</th>\n      <td>9</td>\n      <td>0.0</td>\n    </tr>\n    <tr>\n      <th>10</th>\n      <td>10</td>\n      <td>3.0</td>\n    </tr>\n    <tr>\n      <th>11</th>\n      <td>11</td>\n      <td>0.0</td>\n    </tr>\n    <tr>\n      <th>12</th>\n      <td>12</td>\n      <td>0.0</td>\n    </tr>\n    <tr>\n      <th>13</th>\n      <td>13</td>\n      <td>0.0</td>\n    </tr>\n    <tr>\n      <th>14</th>\n      <td>14</td>\n      <td>2.0</td>\n    </tr>\n    <tr>\n      <th>15</th>\n      <td>15</td>\n      <td>6.0</td>\n    </tr>\n    <tr>\n      <th>16</th>\n      <td>16</td>\n      <td>0.0</td>\n    </tr>\n    <tr>\n      <th>17</th>\n      <td>17</td>\n      <td>0.0</td>\n    </tr>\n    <tr>\n      <th>18</th>\n      <td>18</td>\n      <td>2.0</td>\n    </tr>\n    <tr>\n      <th>19</th>\n      <td>19</td>\n      <td>0.0</td>\n    </tr>\n    <tr>\n      <th>20</th>\n      <td>20</td>\n      <td>1.0</td>\n    </tr>\n    <tr>\n      <th>21</th>\n      <td>21</td>\n      <td>0.0</td>\n    </tr>\n    <tr>\n      <th>22</th>\n      <td>22</td>\n      <td>1.0</td>\n    </tr>\n    <tr>\n      <th>23</th>\n      <td>23</td>\n      <td>1.0</td>\n    </tr>\n    <tr>\n      <th>24</th>\n      <td>24</td>\n      <td>3.0</td>\n    </tr>\n    <tr>\n      <th>25</th>\n      <td>25</td>\n      <td>0.0</td>\n    </tr>\n    <tr>\n      <th>26</th>\n      <td>26</td>\n      <td>0.0</td>\n    </tr>\n    <tr>\n      <th>27</th>\n      <td>27</td>\n      <td>0.0</td>\n    </tr>\n    <tr>\n      <th>28</th>\n      <td>28</td>\n      <td>2.0</td>\n    </tr>\n    <tr>\n      <th>29</th>\n      <td>29</td>\n      <td>7.0</td>\n    </tr>\n    <tr>\n      <th>...</th>\n      <td>...</td>\n      <td>...</td>\n    </tr>\n    <tr>\n      <th>214170</th>\n      <td>214170</td>\n      <td>0.0</td>\n    </tr>\n    <tr>\n      <th>214171</th>\n      <td>214171</td>\n      <td>0.0</td>\n    </tr>\n    <tr>\n      <th>214172</th>\n      <td>214172</td>\n      <td>0.0</td>\n    </tr>\n    <tr>\n      <th>214173</th>\n      <td>214173</td>\n      <td>0.0</td>\n    </tr>\n    <tr>\n      <th>214174</th>\n      <td>214174</td>\n      <td>0.0</td>\n    </tr>\n    <tr>\n      <th>214175</th>\n      <td>214175</td>\n      <td>0.0</td>\n    </tr>\n    <tr>\n      <th>214176</th>\n      <td>214176</td>\n      <td>0.0</td>\n    </tr>\n    <tr>\n      <th>214177</th>\n      <td>214177</td>\n      <td>0.0</td>\n    </tr>\n    <tr>\n      <th>214178</th>\n      <td>214178</td>\n      <td>0.0</td>\n    </tr>\n    <tr>\n      <th>214179</th>\n      <td>214179</td>\n      <td>0.0</td>\n    </tr>\n    <tr>\n      <th>214180</th>\n      <td>214180</td>\n      <td>0.0</td>\n    </tr>\n    <tr>\n      <th>214181</th>\n      <td>214181</td>\n      <td>0.0</td>\n    </tr>\n    <tr>\n      <th>214182</th>\n      <td>214182</td>\n      <td>0.0</td>\n    </tr>\n    <tr>\n      <th>214183</th>\n      <td>214183</td>\n      <td>0.0</td>\n    </tr>\n    <tr>\n      <th>214184</th>\n      <td>214184</td>\n      <td>0.0</td>\n    </tr>\n    <tr>\n      <th>214185</th>\n      <td>214185</td>\n      <td>0.0</td>\n    </tr>\n    <tr>\n      <th>214186</th>\n      <td>214186</td>\n      <td>0.0</td>\n    </tr>\n    <tr>\n      <th>214187</th>\n      <td>214187</td>\n      <td>1.0</td>\n    </tr>\n    <tr>\n      <th>214188</th>\n      <td>214188</td>\n      <td>0.0</td>\n    </tr>\n    <tr>\n      <th>214189</th>\n      <td>214189</td>\n      <td>0.0</td>\n    </tr>\n    <tr>\n      <th>214190</th>\n      <td>214190</td>\n      <td>0.0</td>\n    </tr>\n    <tr>\n      <th>214191</th>\n      <td>214191</td>\n      <td>0.0</td>\n    </tr>\n    <tr>\n      <th>214192</th>\n      <td>214192</td>\n      <td>0.0</td>\n    </tr>\n    <tr>\n      <th>214193</th>\n      <td>214193</td>\n      <td>0.0</td>\n    </tr>\n    <tr>\n      <th>214194</th>\n      <td>214194</td>\n      <td>0.0</td>\n    </tr>\n    <tr>\n      <th>214195</th>\n      <td>214195</td>\n      <td>1.0</td>\n    </tr>\n    <tr>\n      <th>214196</th>\n      <td>214196</td>\n      <td>0.0</td>\n    </tr>\n    <tr>\n      <th>214197</th>\n      <td>214197</td>\n      <td>0.0</td>\n    </tr>\n    <tr>\n      <th>214198</th>\n      <td>214198</td>\n      <td>0.0</td>\n    </tr>\n    <tr>\n      <th>214199</th>\n      <td>214199</td>\n      <td>0.0</td>\n    </tr>\n  </tbody>\n</table>\n<p>214200 rows × 2 columns</p>\n</div>"
          },
          "metadata": {}
        }
      ]
    },
    {
      "metadata": {
        "trusted": true,
        "_uuid": "f0e9e119ba39d0e52247b7577368019d24168b8f"
      },
      "cell_type": "code",
      "source": "#pred1 = pd.DataFrame(pred, index=range(ITEM_MAX + 1)).fillna(0.)\n#pred1 = pred1.rename(index=str, columns={'item_cnt_day': 'item_cnt_month'})\n#pred1.head()",
      "execution_count": 28,
      "outputs": []
    },
    {
      "metadata": {
        "trusted": true,
        "_uuid": "f0609756aed4fbe2e2959e1e1a78209a32bf8ac8"
      },
      "cell_type": "code",
      "source": "#pred1[pred1.item_cnt_month != 0].head()",
      "execution_count": 29,
      "outputs": []
    },
    {
      "metadata": {
        "trusted": true,
        "_uuid": "eb5d70e1b65d4e26bdc703b68bf620d6c884009e"
      },
      "cell_type": "code",
      "source": "#pred1.to_csv('submission.csv', index_label='ID')",
      "execution_count": 30,
      "outputs": []
    },
    {
      "metadata": {
        "trusted": true,
        "_uuid": "df5b8b35f3ff60c149d43c6631c014d57b8caf11"
      },
      "cell_type": "code",
      "source": "#pd.read_csv('submission.csv')",
      "execution_count": 31,
      "outputs": []
    },
    {
      "metadata": {
        "trusted": true,
        "_uuid": "6aa5ec341e53acc38fb98a8896482c92cf548ce7"
      },
      "cell_type": "code",
      "source": "su_sub.ID.max()",
      "execution_count": 32,
      "outputs": [
        {
          "output_type": "execute_result",
          "execution_count": 32,
          "data": {
            "text/plain": "214199"
          },
          "metadata": {}
        }
      ]
    },
    {
      "metadata": {
        "trusted": true,
        "_uuid": "96e5349a7a8f461e8460ecb8e05c709f10fc41dc"
      },
      "cell_type": "code",
      "source": "sales.item_id.max(), sales.item_id.nunique()",
      "execution_count": 33,
      "outputs": [
        {
          "output_type": "execute_result",
          "execution_count": 33,
          "data": {
            "text/plain": "(22169, 21807)"
          },
          "metadata": {}
        }
      ]
    },
    {
      "metadata": {
        "trusted": true,
        "_uuid": "35e2809f6ec036a85eecbc7837b9a576ee755762"
      },
      "cell_type": "code",
      "source": "sales.shop_id.max(), sales.shop_id.nunique()",
      "execution_count": 34,
      "outputs": [
        {
          "output_type": "execute_result",
          "execution_count": 34,
          "data": {
            "text/plain": "(59, 60)"
          },
          "metadata": {}
        }
      ]
    },
    {
      "metadata": {
        "trusted": true,
        "_uuid": "0dc2e171f0c9be20b0b3231de0a027e37fcca1f8"
      },
      "cell_type": "code",
      "source": "22170 * 60, 21807 * 60",
      "execution_count": 35,
      "outputs": [
        {
          "output_type": "execute_result",
          "execution_count": 35,
          "data": {
            "text/plain": "(1330200, 1308420)"
          },
          "metadata": {}
        }
      ]
    },
    {
      "metadata": {
        "trusted": true,
        "_uuid": "a467e8e9d254c28edf5ef75561b7f386c6e131e6"
      },
      "cell_type": "code",
      "source": "sales.groupby(['shop_id'])['item_id'].nunique().sum()",
      "execution_count": 36,
      "outputs": [
        {
          "output_type": "execute_result",
          "execution_count": 36,
          "data": {
            "text/plain": "424124"
          },
          "metadata": {}
        }
      ]
    }
  ],
  "metadata": {
    "kernelspec": {
      "display_name": "Python 3",
      "language": "python",
      "name": "python3"
    },
    "language_info": {
      "name": "python",
      "version": "3.6.6",
      "mimetype": "text/x-python",
      "codemirror_mode": {
        "name": "ipython",
        "version": 3
      },
      "pygments_lexer": "ipython3",
      "nbconvert_exporter": "python",
      "file_extension": ".py"
    }
  },
  "nbformat": 4,
  "nbformat_minor": 1
}