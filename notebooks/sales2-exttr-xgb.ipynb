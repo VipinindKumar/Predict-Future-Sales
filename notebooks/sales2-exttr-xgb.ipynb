{
 "cells": [
  {
   "cell_type": "code",
   "execution_count": 1,
   "metadata": {
    "_cell_guid": "b1076dfc-b9ad-4769-8c92-a6c4dae69d19",
    "_uuid": "8f2839f25d086af736a60e9eeb907d3b93b6e0e5"
   },
   "outputs": [
    {
     "name": "stdout",
     "output_type": "stream",
     "text": [
      "['competitive-data-science-predict-future-sales', 'sales1-grid-itmcat-target-meanenc-lag']\n"
     ]
    }
   ],
   "source": [
    "# This Python 3 environment comes with many helpful analytics libraries installed\n",
    "# It is defined by the kaggle/python docker image: https://github.com/kaggle/docker-python\n",
    "# For example, here's several helpful packages to load in \n",
    "\n",
    "import numpy as np # linear algebra\n",
    "import pandas as pd # data processing, CSV file I/O (e.g. pd.read_csv)\n",
    "\n",
    "# Input data files are available in the \"../input/\" directory.\n",
    "# For example, running this (by clicking run or pressing Shift+Enter) will list the files in the input directory\n",
    "\n",
    "import os\n",
    "print(os.listdir(\"../input\"))\n",
    "\n",
    "# Any results you write to the current directory are saved as output."
   ]
  },
  {
   "cell_type": "code",
   "execution_count": 2,
   "metadata": {
    "_uuid": "3c3499d9a106b19328757db6d1548a1d7b30b171"
   },
   "outputs": [],
   "source": [
    "import gc\n",
    "from tqdm import tqdm_notebook\n",
    "from math import ceil\n",
    "import pickle\n",
    "\n",
    "from sklearn.ensemble import ExtraTreesRegressor\n",
    "import xgboost as xgb\n",
    "\n",
    "from sklearn.metrics import mean_squared_error as mse\n",
    "import matplotlib.pyplot as plt"
   ]
  },
  {
   "cell_type": "code",
   "execution_count": 3,
   "metadata": {
    "_uuid": "ecdbb6899072364def9e9829a424e0fcfb811c83"
   },
   "outputs": [],
   "source": [
    "#all_data = pd.read_pickle('../input/all_data.gzip')\n",
    "#all_data.head()"
   ]
  },
  {
   "cell_type": "code",
   "execution_count": 4,
   "metadata": {
    "_uuid": "392b059aa85cef13ec777250f0a638a3e28fabb7"
   },
   "outputs": [],
   "source": [
    "drop_cols = ['item_category_id', 'type_id', 'subtype_id', 'city_id',\n",
    "            'target_item_lag_3', 'target_item_lag_5',\n",
    "            'target_item_cat_lag_3', 'target_item_cat_lag_4', 'target_item_cat_lag_5', 'target_item_cat_lag_6',\n",
    "            'target_item_type_lag_6',\n",
    "            'target_item_subtype_lag_4', 'target_item_subtype_lag_6',\n",
    "            'target_city_lag_3', 'target_city_lag_4', 'target_city_lag_5',\n",
    "            'delta_avg_item_price_lag_2', 'delta_avg_item_price_lag_4',\n",
    "            'delta_avg_shop_revenue_lag_3', 'delta_avg_shop_revenue_lag_6']\n",
    "\n",
    "#for i in range(1,7):\n",
    "#    drop_cols += ['target_item_type_lag_' + str(i),\n",
    "#                      'target_item_subtype_lag_' + str(i),\n",
    "#                      'target_city_lag_' + str(i),\n",
    "#                      'delta_avg_item_price_lag_' + str(i),\n",
    "#                      'delta_avg_shop_revenue_lag_' + str(i)]\n",
    "\n",
    "X_train = pd.read_pickle('../input/sales1-grid-itmcat-target-meanenc-lag/X_train.gzip').drop(drop_cols, axis=1)\n",
    "X_val = pd.read_pickle('../input/sales1-grid-itmcat-target-meanenc-lag/X_val.gzip').drop(drop_cols, axis=1)\n",
    "y_train = np.load('../input/sales1-grid-itmcat-target-meanenc-lag/y_train.gzip', allow_pickle=True)\n",
    "y_val = np.load('../input/sales1-grid-itmcat-target-meanenc-lag/y_val.gzip', allow_pickle=True)\n",
    "\n",
    "test = pd.read_pickle('../input/sales1-grid-itmcat-target-meanenc-lag/test.gzip').drop(drop_cols, axis=1)"
   ]
  },
  {
   "cell_type": "code",
   "execution_count": 5,
   "metadata": {
    "_uuid": "11d16c7a9626b714a65e8ae370b10d8756974d76"
   },
   "outputs": [
    {
     "data": {
      "text/plain": [
       "((6186922, 46), (238172, 46), 6186922, 238172, (214200, 46))"
      ]
     },
     "execution_count": 5,
     "metadata": {},
     "output_type": "execute_result"
    }
   ],
   "source": [
    "X_train.shape, X_val.shape, len(y_train), len(y_val), test.shape"
   ]
  },
  {
   "cell_type": "code",
   "execution_count": 6,
   "metadata": {
    "_uuid": "bdb0b21f466dab89961daa3c0da4a8eb32893d27"
   },
   "outputs": [
    {
     "data": {
      "text/html": [
       "<div>\n",
       "<style scoped>\n",
       "    .dataframe tbody tr th:only-of-type {\n",
       "        vertical-align: middle;\n",
       "    }\n",
       "\n",
       "    .dataframe tbody tr th {\n",
       "        vertical-align: top;\n",
       "    }\n",
       "\n",
       "    .dataframe thead th {\n",
       "        text-align: right;\n",
       "    }\n",
       "</style>\n",
       "<table border=\"1\" class=\"dataframe\">\n",
       "  <thead>\n",
       "    <tr style=\"text-align: right;\">\n",
       "      <th></th>\n",
       "      <th>shop_id</th>\n",
       "      <th>item_id</th>\n",
       "      <th>item_target_enc</th>\n",
       "      <th>shop_target_enc</th>\n",
       "      <th>item_category_target_enc</th>\n",
       "      <th>type_target_enc</th>\n",
       "      <th>subtype_target_enc</th>\n",
       "      <th>city_target_enc</th>\n",
       "      <th>target_lag_1</th>\n",
       "      <th>target_shop_lag_1</th>\n",
       "      <th>target_item_lag_1</th>\n",
       "      <th>target_item_cat_lag_1</th>\n",
       "      <th>target_item_type_lag_1</th>\n",
       "      <th>target_item_subtype_lag_1</th>\n",
       "      <th>target_city_lag_1</th>\n",
       "      <th>delta_avg_item_price_lag_1</th>\n",
       "      <th>delta_avg_shop_revenue_lag_1</th>\n",
       "      <th>target_lag_2</th>\n",
       "      <th>target_shop_lag_2</th>\n",
       "      <th>target_item_lag_2</th>\n",
       "      <th>target_item_cat_lag_2</th>\n",
       "      <th>target_item_type_lag_2</th>\n",
       "      <th>target_item_subtype_lag_2</th>\n",
       "      <th>target_city_lag_2</th>\n",
       "      <th>delta_avg_shop_revenue_lag_2</th>\n",
       "      <th>target_lag_3</th>\n",
       "      <th>target_shop_lag_3</th>\n",
       "      <th>target_item_type_lag_3</th>\n",
       "      <th>target_item_subtype_lag_3</th>\n",
       "      <th>delta_avg_item_price_lag_3</th>\n",
       "      <th>target_lag_4</th>\n",
       "      <th>target_shop_lag_4</th>\n",
       "      <th>target_item_lag_4</th>\n",
       "      <th>target_item_type_lag_4</th>\n",
       "      <th>delta_avg_shop_revenue_lag_4</th>\n",
       "      <th>target_lag_5</th>\n",
       "      <th>target_shop_lag_5</th>\n",
       "      <th>target_item_type_lag_5</th>\n",
       "      <th>target_item_subtype_lag_5</th>\n",
       "      <th>delta_avg_item_price_lag_5</th>\n",
       "      <th>delta_avg_shop_revenue_lag_5</th>\n",
       "      <th>target_lag_6</th>\n",
       "      <th>target_shop_lag_6</th>\n",
       "      <th>target_item_lag_6</th>\n",
       "      <th>target_city_lag_6</th>\n",
       "      <th>delta_avg_item_price_lag_6</th>\n",
       "    </tr>\n",
       "  </thead>\n",
       "  <tbody>\n",
       "    <tr>\n",
       "      <th>0</th>\n",
       "      <td>5</td>\n",
       "      <td>5037</td>\n",
       "      <td>1.951172</td>\n",
       "      <td>0.189331</td>\n",
       "      <td>0.757324</td>\n",
       "      <td>0.711914</td>\n",
       "      <td>0.700684</td>\n",
       "      <td>0.189331</td>\n",
       "      <td>0.0</td>\n",
       "      <td>1052.0</td>\n",
       "      <td>25.0</td>\n",
       "      <td>2444.0</td>\n",
       "      <td>13104.0</td>\n",
       "      <td>2532.0</td>\n",
       "      <td>1052.0</td>\n",
       "      <td>-0.222046</td>\n",
       "      <td>-0.101013</td>\n",
       "      <td>1.0</td>\n",
       "      <td>1092.0</td>\n",
       "      <td>110.0</td>\n",
       "      <td>3980.0</td>\n",
       "      <td>16416.0</td>\n",
       "      <td>4074.0</td>\n",
       "      <td>1092.0</td>\n",
       "      <td>-0.042847</td>\n",
       "      <td>3.0</td>\n",
       "      <td>1294.0</td>\n",
       "      <td>14904.0</td>\n",
       "      <td>4808.0</td>\n",
       "      <td>-0.535645</td>\n",
       "      <td>1.0</td>\n",
       "      <td>991.0</td>\n",
       "      <td>54.0</td>\n",
       "      <td>11680.0</td>\n",
       "      <td>-0.325684</td>\n",
       "      <td>1.0</td>\n",
       "      <td>954.0</td>\n",
       "      <td>13072.0</td>\n",
       "      <td>3616.0</td>\n",
       "      <td>-0.302979</td>\n",
       "      <td>-0.293213</td>\n",
       "      <td>1.0</td>\n",
       "      <td>1012.0</td>\n",
       "      <td>87.0</td>\n",
       "      <td>1012.0</td>\n",
       "      <td>-0.199219</td>\n",
       "    </tr>\n",
       "    <tr>\n",
       "      <th>1</th>\n",
       "      <td>5</td>\n",
       "      <td>5320</td>\n",
       "      <td>0.333984</td>\n",
       "      <td>0.189331</td>\n",
       "      <td>0.224121</td>\n",
       "      <td>0.172729</td>\n",
       "      <td>0.224121</td>\n",
       "      <td>0.189331</td>\n",
       "      <td>0.0</td>\n",
       "      <td>0.0</td>\n",
       "      <td>0.0</td>\n",
       "      <td>0.0</td>\n",
       "      <td>0.0</td>\n",
       "      <td>0.0</td>\n",
       "      <td>0.0</td>\n",
       "      <td>0.000000</td>\n",
       "      <td>0.000000</td>\n",
       "      <td>0.0</td>\n",
       "      <td>0.0</td>\n",
       "      <td>0.0</td>\n",
       "      <td>0.0</td>\n",
       "      <td>0.0</td>\n",
       "      <td>0.0</td>\n",
       "      <td>0.0</td>\n",
       "      <td>0.000000</td>\n",
       "      <td>0.0</td>\n",
       "      <td>0.0</td>\n",
       "      <td>0.0</td>\n",
       "      <td>0.0</td>\n",
       "      <td>0.000000</td>\n",
       "      <td>0.0</td>\n",
       "      <td>0.0</td>\n",
       "      <td>0.0</td>\n",
       "      <td>0.0</td>\n",
       "      <td>0.000000</td>\n",
       "      <td>0.0</td>\n",
       "      <td>0.0</td>\n",
       "      <td>0.0</td>\n",
       "      <td>0.0</td>\n",
       "      <td>0.000000</td>\n",
       "      <td>0.000000</td>\n",
       "      <td>0.0</td>\n",
       "      <td>0.0</td>\n",
       "      <td>0.0</td>\n",
       "      <td>0.0</td>\n",
       "      <td>0.000000</td>\n",
       "    </tr>\n",
       "    <tr>\n",
       "      <th>2</th>\n",
       "      <td>5</td>\n",
       "      <td>5233</td>\n",
       "      <td>1.657227</td>\n",
       "      <td>0.189331</td>\n",
       "      <td>0.757324</td>\n",
       "      <td>0.711914</td>\n",
       "      <td>0.700684</td>\n",
       "      <td>0.189331</td>\n",
       "      <td>1.0</td>\n",
       "      <td>1052.0</td>\n",
       "      <td>42.0</td>\n",
       "      <td>2444.0</td>\n",
       "      <td>13104.0</td>\n",
       "      <td>2532.0</td>\n",
       "      <td>1052.0</td>\n",
       "      <td>0.497314</td>\n",
       "      <td>-0.101013</td>\n",
       "      <td>3.0</td>\n",
       "      <td>1092.0</td>\n",
       "      <td>80.0</td>\n",
       "      <td>3980.0</td>\n",
       "      <td>16416.0</td>\n",
       "      <td>4074.0</td>\n",
       "      <td>1092.0</td>\n",
       "      <td>-0.042847</td>\n",
       "      <td>1.0</td>\n",
       "      <td>1294.0</td>\n",
       "      <td>14904.0</td>\n",
       "      <td>4808.0</td>\n",
       "      <td>-0.110657</td>\n",
       "      <td>0.0</td>\n",
       "      <td>991.0</td>\n",
       "      <td>37.0</td>\n",
       "      <td>11680.0</td>\n",
       "      <td>-0.325684</td>\n",
       "      <td>2.0</td>\n",
       "      <td>954.0</td>\n",
       "      <td>13072.0</td>\n",
       "      <td>3616.0</td>\n",
       "      <td>-0.187134</td>\n",
       "      <td>-0.293213</td>\n",
       "      <td>3.0</td>\n",
       "      <td>1012.0</td>\n",
       "      <td>71.0</td>\n",
       "      <td>1012.0</td>\n",
       "      <td>-0.013412</td>\n",
       "    </tr>\n",
       "    <tr>\n",
       "      <th>3</th>\n",
       "      <td>5</td>\n",
       "      <td>5232</td>\n",
       "      <td>1.092773</td>\n",
       "      <td>0.189331</td>\n",
       "      <td>0.666016</td>\n",
       "      <td>0.711914</td>\n",
       "      <td>0.644531</td>\n",
       "      <td>0.189331</td>\n",
       "      <td>0.0</td>\n",
       "      <td>1052.0</td>\n",
       "      <td>28.0</td>\n",
       "      <td>2204.0</td>\n",
       "      <td>13104.0</td>\n",
       "      <td>2488.0</td>\n",
       "      <td>1052.0</td>\n",
       "      <td>0.505859</td>\n",
       "      <td>-0.101013</td>\n",
       "      <td>0.0</td>\n",
       "      <td>1092.0</td>\n",
       "      <td>48.0</td>\n",
       "      <td>3590.0</td>\n",
       "      <td>16416.0</td>\n",
       "      <td>3888.0</td>\n",
       "      <td>1092.0</td>\n",
       "      <td>-0.042847</td>\n",
       "      <td>1.0</td>\n",
       "      <td>1294.0</td>\n",
       "      <td>14904.0</td>\n",
       "      <td>3978.0</td>\n",
       "      <td>-0.187256</td>\n",
       "      <td>0.0</td>\n",
       "      <td>0.0</td>\n",
       "      <td>0.0</td>\n",
       "      <td>0.0</td>\n",
       "      <td>0.000000</td>\n",
       "      <td>0.0</td>\n",
       "      <td>0.0</td>\n",
       "      <td>0.0</td>\n",
       "      <td>0.0</td>\n",
       "      <td>0.000000</td>\n",
       "      <td>0.000000</td>\n",
       "      <td>0.0</td>\n",
       "      <td>0.0</td>\n",
       "      <td>0.0</td>\n",
       "      <td>0.0</td>\n",
       "      <td>0.000000</td>\n",
       "    </tr>\n",
       "    <tr>\n",
       "      <th>4</th>\n",
       "      <td>5</td>\n",
       "      <td>5268</td>\n",
       "      <td>0.333984</td>\n",
       "      <td>0.189331</td>\n",
       "      <td>1.911133</td>\n",
       "      <td>0.711914</td>\n",
       "      <td>1.838867</td>\n",
       "      <td>0.189331</td>\n",
       "      <td>0.0</td>\n",
       "      <td>0.0</td>\n",
       "      <td>0.0</td>\n",
       "      <td>0.0</td>\n",
       "      <td>0.0</td>\n",
       "      <td>0.0</td>\n",
       "      <td>0.0</td>\n",
       "      <td>0.000000</td>\n",
       "      <td>0.000000</td>\n",
       "      <td>0.0</td>\n",
       "      <td>0.0</td>\n",
       "      <td>0.0</td>\n",
       "      <td>0.0</td>\n",
       "      <td>0.0</td>\n",
       "      <td>0.0</td>\n",
       "      <td>0.0</td>\n",
       "      <td>0.000000</td>\n",
       "      <td>0.0</td>\n",
       "      <td>0.0</td>\n",
       "      <td>0.0</td>\n",
       "      <td>0.0</td>\n",
       "      <td>0.000000</td>\n",
       "      <td>0.0</td>\n",
       "      <td>0.0</td>\n",
       "      <td>0.0</td>\n",
       "      <td>0.0</td>\n",
       "      <td>0.000000</td>\n",
       "      <td>0.0</td>\n",
       "      <td>0.0</td>\n",
       "      <td>0.0</td>\n",
       "      <td>0.0</td>\n",
       "      <td>0.000000</td>\n",
       "      <td>0.000000</td>\n",
       "      <td>0.0</td>\n",
       "      <td>0.0</td>\n",
       "      <td>0.0</td>\n",
       "      <td>0.0</td>\n",
       "      <td>0.000000</td>\n",
       "    </tr>\n",
       "  </tbody>\n",
       "</table>\n",
       "</div>"
      ],
      "text/plain": [
       "   shop_id             ...              delta_avg_item_price_lag_6\n",
       "0        5             ...                               -0.199219\n",
       "1        5             ...                                0.000000\n",
       "2        5             ...                               -0.013412\n",
       "3        5             ...                                0.000000\n",
       "4        5             ...                                0.000000\n",
       "\n",
       "[5 rows x 46 columns]"
      ]
     },
     "execution_count": 6,
     "metadata": {},
     "output_type": "execute_result"
    }
   ],
   "source": [
    "test.head()"
   ]
  },
  {
   "cell_type": "markdown",
   "metadata": {
    "_uuid": "313b3cbf87e935db7157f77911a40ce67fdd7f92"
   },
   "source": [
    "# ExtraTreesRegressor:"
   ]
  },
  {
   "cell_type": "code",
   "execution_count": 7,
   "metadata": {
    "_uuid": "324d8a6c6a5b6d9f042b61509cbda7c2007296f7"
   },
   "outputs": [
    {
     "name": "stdout",
     "output_type": "stream",
     "text": [
      "CPU times: user 0 ns, sys: 0 ns, total: 0 ns\n",
      "Wall time: 9.06 µs\n"
     ]
    }
   ],
   "source": [
    "%%time\n",
    "#model = ExtraTreesRegressor(criterion='mse', verbose=1)\n",
    "\n",
    "#model.fit(X_train, y_train)\n",
    "\n",
    "#model.score(X_test, y_test)"
   ]
  },
  {
   "cell_type": "markdown",
   "metadata": {
    "_uuid": "008747132edb08465db81f7167db223774cc6d22"
   },
   "source": [
    "# XGBoost:"
   ]
  },
  {
   "cell_type": "markdown",
   "metadata": {
    "_uuid": "ba0be3353fb98f618cbca2111cc7a2c881879f8c"
   },
   "source": [
    "## Iterative Increment training:"
   ]
  },
  {
   "cell_type": "code",
   "execution_count": 8,
   "metadata": {
    "_uuid": "8e434e44fea1aa9f5988da82c23184c6211c74f3"
   },
   "outputs": [],
   "source": [
    "#len(X_train)/2"
   ]
  },
  {
   "cell_type": "markdown",
   "metadata": {
    "_uuid": "7d7789029a12130fd8276d803a4d1f3d0184bb95"
   },
   "source": [
    "%%time\n",
    "batch_size = int(len(X_train) / 2)\n",
    "iterations = 10\n",
    "model = None\n",
    "rmse_train_list = list()\n",
    "rmse_val_list = list()\n",
    "\n",
    "for i in tqdm_notebook(range(iterations)):\n",
    "    for start in tqdm_notebook(range(0, len(X_train), batch_size)):\n",
    "        model = xgb.train({\n",
    "            'max_depth' : 8,\n",
    "            'learning_rate': 0.1,\n",
    "            'seed' : 4,\n",
    "            'eval_metric' : 'rmse',\n",
    "            'min_child_weight' : 300,\n",
    "            'sub_sample' : 0.8,\n",
    "            'colsample_bytree' : 0.8\n",
    "            #'verbosity' : 3\n",
    "            #'predictor' : 'gpu_predictor'\n",
    "        }, dtrain=xgb.DMatrix(X_train[start:start+batch_size], y_train[start:start+batch_size]), xgb_model=model)\n",
    "        \n",
    "    y_train_pr = model.predict(xgb.DMatrix(X_train))\n",
    "    y_val_pr = model.predict(xgb.DMatrix(X_val))\n",
    "    \n",
    "    rmse_train_list.append(mse(y_train, y_train_pr) ** (1/2))\n",
    "    rmse_val_list.append(mse(y_val, y_val_pr) ** (1/2))\n",
    "    \n",
    "    print('Train RMSE itr@{}: {}'.format(i, rmse_train_list[i]))\n",
    "    print('Val RMSE itr@{}: {}'.format(i, rmse_val_list[i]))\n",
    "\n",
    "    # plot the rmse\n",
    "    plt.plot(rmse_train_list, label='train')\n",
    "    plt.plot(rmse_val_list, label='val')\n",
    "        \n",
    "        \n",
    "    #print('RMSE itr@{}: {}'.format(i, mse(y_val, y_pr) ** (1/2)))\n",
    "\n",
    "y_pred = model.predict(xgb.DMatrix(X_val))\n",
    "print('RMSE at the end: {}'.format(mse(y_val, y_pred) ** (1/2)))"
   ]
  },
  {
   "cell_type": "code",
   "execution_count": 9,
   "metadata": {},
   "outputs": [],
   "source": [
    "#rmse_train_list, rmse_val_list"
   ]
  },
  {
   "cell_type": "markdown",
   "metadata": {},
   "source": [
    "## Model fitting:"
   ]
  },
  {
   "cell_type": "code",
   "execution_count": 10,
   "metadata": {},
   "outputs": [
    {
     "name": "stdout",
     "output_type": "stream",
     "text": [
      "[0]\tvalidation_0-rmse:3.39664\tvalidation_1-rmse:2.61129\n",
      "Multiple eval metrics have been passed: 'validation_1-rmse' will be used for early stopping.\n",
      "\n",
      "Will train until validation_1-rmse hasn't improved in 10 rounds.\n",
      "[1]\tvalidation_0-rmse:3.30564\tvalidation_1-rmse:2.52801\n",
      "[2]\tvalidation_0-rmse:3.23569\tvalidation_1-rmse:2.458\n",
      "[3]\tvalidation_0-rmse:3.16746\tvalidation_1-rmse:2.39972\n",
      "[4]\tvalidation_0-rmse:3.10972\tvalidation_1-rmse:2.34883\n",
      "[5]\tvalidation_0-rmse:3.06289\tvalidation_1-rmse:2.30308\n",
      "[6]\tvalidation_0-rmse:3.02052\tvalidation_1-rmse:2.26519\n",
      "[7]\tvalidation_0-rmse:2.9879\tvalidation_1-rmse:2.23895\n",
      "[8]\tvalidation_0-rmse:2.95463\tvalidation_1-rmse:2.21042\n",
      "[9]\tvalidation_0-rmse:2.92592\tvalidation_1-rmse:2.18681\n",
      "[10]\tvalidation_0-rmse:2.90136\tvalidation_1-rmse:2.16911\n",
      "[11]\tvalidation_0-rmse:2.88053\tvalidation_1-rmse:2.15622\n",
      "[12]\tvalidation_0-rmse:2.8624\tvalidation_1-rmse:2.14257\n",
      "[13]\tvalidation_0-rmse:2.84349\tvalidation_1-rmse:2.12591\n",
      "[14]\tvalidation_0-rmse:2.82849\tvalidation_1-rmse:2.11637\n",
      "[15]\tvalidation_0-rmse:2.81288\tvalidation_1-rmse:2.10341\n",
      "[16]\tvalidation_0-rmse:2.80221\tvalidation_1-rmse:2.10196\n",
      "[17]\tvalidation_0-rmse:2.79131\tvalidation_1-rmse:2.09572\n",
      "[18]\tvalidation_0-rmse:2.77704\tvalidation_1-rmse:2.08688\n",
      "[19]\tvalidation_0-rmse:2.76544\tvalidation_1-rmse:2.0798\n",
      "[20]\tvalidation_0-rmse:2.75664\tvalidation_1-rmse:2.0839\n",
      "[21]\tvalidation_0-rmse:2.74765\tvalidation_1-rmse:2.08056\n",
      "[22]\tvalidation_0-rmse:2.73585\tvalidation_1-rmse:2.07286\n",
      "[23]\tvalidation_0-rmse:2.72864\tvalidation_1-rmse:2.06991\n",
      "[24]\tvalidation_0-rmse:2.71903\tvalidation_1-rmse:2.06432\n",
      "[25]\tvalidation_0-rmse:2.71248\tvalidation_1-rmse:2.06351\n",
      "[26]\tvalidation_0-rmse:2.70678\tvalidation_1-rmse:2.06261\n",
      "[27]\tvalidation_0-rmse:2.70276\tvalidation_1-rmse:2.06442\n",
      "[28]\tvalidation_0-rmse:2.69785\tvalidation_1-rmse:2.06175\n",
      "[29]\tvalidation_0-rmse:2.69313\tvalidation_1-rmse:2.0604\n",
      "[30]\tvalidation_0-rmse:2.68933\tvalidation_1-rmse:2.06002\n",
      "[31]\tvalidation_0-rmse:2.68345\tvalidation_1-rmse:2.05932\n",
      "[32]\tvalidation_0-rmse:2.67755\tvalidation_1-rmse:2.06075\n",
      "[33]\tvalidation_0-rmse:2.67392\tvalidation_1-rmse:2.05945\n",
      "[34]\tvalidation_0-rmse:2.67066\tvalidation_1-rmse:2.05762\n",
      "[35]\tvalidation_0-rmse:2.66447\tvalidation_1-rmse:2.05641\n",
      "[36]\tvalidation_0-rmse:2.65993\tvalidation_1-rmse:2.05587\n",
      "[37]\tvalidation_0-rmse:2.65393\tvalidation_1-rmse:2.05256\n",
      "[38]\tvalidation_0-rmse:2.64831\tvalidation_1-rmse:2.04813\n",
      "[39]\tvalidation_0-rmse:2.64324\tvalidation_1-rmse:2.04826\n",
      "[40]\tvalidation_0-rmse:2.63828\tvalidation_1-rmse:2.04542\n",
      "[41]\tvalidation_0-rmse:2.63519\tvalidation_1-rmse:2.0465\n",
      "[42]\tvalidation_0-rmse:2.63219\tvalidation_1-rmse:2.04706\n",
      "[43]\tvalidation_0-rmse:2.62785\tvalidation_1-rmse:2.04652\n",
      "[44]\tvalidation_0-rmse:2.62515\tvalidation_1-rmse:2.04949\n",
      "[45]\tvalidation_0-rmse:2.61919\tvalidation_1-rmse:2.05171\n",
      "[46]\tvalidation_0-rmse:2.61628\tvalidation_1-rmse:2.05111\n",
      "[47]\tvalidation_0-rmse:2.61291\tvalidation_1-rmse:2.05084\n",
      "[48]\tvalidation_0-rmse:2.6084\tvalidation_1-rmse:2.05165\n",
      "[49]\tvalidation_0-rmse:2.6051\tvalidation_1-rmse:2.05186\n",
      "[50]\tvalidation_0-rmse:2.59954\tvalidation_1-rmse:2.04709\n",
      "Stopping. Best iteration:\n",
      "[40]\tvalidation_0-rmse:2.63828\tvalidation_1-rmse:2.04542\n",
      "\n",
      "CPU times: user 1h 2min 49s, sys: 23.7 s, total: 1h 3min 13s\n",
      "Wall time: 1h 3min 13s\n"
     ]
    }
   ],
   "source": [
    "%%time\n",
    "model = xgb.XGBRegressor(max_depth=8, n_estimators=1000, min_child_weight=300, \n",
    "                     colsample_bytree=0.8, subsample=0.8, eta=0.3, seed=4)\n",
    "\n",
    "model.fit(X_train, y_train, eval_metric='rmse', \n",
    "    eval_set=[(X_train, y_train), (X_val, y_val)], \n",
    "    verbose=True, early_stopping_rounds = 10)"
   ]
  },
  {
   "cell_type": "code",
   "execution_count": 11,
   "metadata": {},
   "outputs": [
    {
     "data": {
      "text/plain": [
       "<matplotlib.axes._subplots.AxesSubplot at 0x7ff132d79630>"
      ]
     },
     "execution_count": 11,
     "metadata": {},
     "output_type": "execute_result"
    },
    {
     "data": {
      "image/png": "[encoded data removed]",
      "text/plain": [
       "<Figure size 864x1296 with 1 Axes>"
      ]
     },
     "metadata": {},
     "output_type": "display_data"
    }
   ],
   "source": [
    "fig, ax = plt.subplots(figsize=(12,18))\n",
    "xgb.plot_importance(model, ax=ax, grid=False)"
   ]
  },
  {
   "cell_type": "code",
   "execution_count": 12,
   "metadata": {
    "_uuid": "cdc190e0a2201e26a40ee7f2eb0e7f66cf0b457c"
   },
   "outputs": [],
   "source": [
    "#test = pd.read_csv('../input/test.csv', index_col=0)\n",
    "#test.drop(['ID'], axis=1).head()"
   ]
  },
  {
   "cell_type": "code",
   "execution_count": 13,
   "metadata": {
    "_uuid": "2cd1cbdf68170e9d8e6f8813d74f1d3d6b111c58"
   },
   "outputs": [
    {
     "data": {
      "text/plain": [
       "array([0.503349  , 0.24781942, 1.0695819 , 0.37043342, 4.3003254 ],\n",
       "      dtype=float32)"
      ]
     },
     "execution_count": 13,
     "metadata": {},
     "output_type": "execute_result"
    }
   ],
   "source": [
    "sub = model.predict(test)\n",
    "sub = sub.clip(0, 20)\n",
    "sub[:5]"
   ]
  },
  {
   "cell_type": "code",
   "execution_count": 14,
   "metadata": {},
   "outputs": [],
   "source": [
    "# pickle model\n",
    "pickle.dump(model, open(\"xgbmodel.dat\", \"wb\"))"
   ]
  },
  {
   "cell_type": "code",
   "execution_count": 15,
   "metadata": {
    "_uuid": "c8cecdfe98be03a71d95e0325541dc02315650da"
   },
   "outputs": [
    {
     "data": {
      "text/html": [
       "<div>\n",
       "<style scoped>\n",
       "    .dataframe tbody tr th:only-of-type {\n",
       "        vertical-align: middle;\n",
       "    }\n",
       "\n",
       "    .dataframe tbody tr th {\n",
       "        vertical-align: top;\n",
       "    }\n",
       "\n",
       "    .dataframe thead th {\n",
       "        text-align: right;\n",
       "    }\n",
       "</style>\n",
       "<table border=\"1\" class=\"dataframe\">\n",
       "  <thead>\n",
       "    <tr style=\"text-align: right;\">\n",
       "      <th></th>\n",
       "      <th>item_cnt_month</th>\n",
       "    </tr>\n",
       "  </thead>\n",
       "  <tbody>\n",
       "    <tr>\n",
       "      <th>0</th>\n",
       "      <td>0.503349</td>\n",
       "    </tr>\n",
       "    <tr>\n",
       "      <th>1</th>\n",
       "      <td>0.247819</td>\n",
       "    </tr>\n",
       "    <tr>\n",
       "      <th>2</th>\n",
       "      <td>1.069582</td>\n",
       "    </tr>\n",
       "    <tr>\n",
       "      <th>3</th>\n",
       "      <td>0.370433</td>\n",
       "    </tr>\n",
       "    <tr>\n",
       "      <th>4</th>\n",
       "      <td>4.300325</td>\n",
       "    </tr>\n",
       "  </tbody>\n",
       "</table>\n",
       "</div>"
      ],
      "text/plain": [
       "   item_cnt_month\n",
       "0        0.503349\n",
       "1        0.247819\n",
       "2        1.069582\n",
       "3        0.370433\n",
       "4        4.300325"
      ]
     },
     "execution_count": 15,
     "metadata": {},
     "output_type": "execute_result"
    }
   ],
   "source": [
    "sub = pd.DataFrame(sub, columns=['item_cnt_month'])\n",
    "sub.head()"
   ]
  },
  {
   "cell_type": "code",
   "execution_count": 16,
   "metadata": {
    "_uuid": "08b1a6ca095d4e1d6d9b044a7bcc883f7701328b"
   },
   "outputs": [
    {
     "data": {
      "text/html": [
       "<div>\n",
       "<style scoped>\n",
       "    .dataframe tbody tr th:only-of-type {\n",
       "        vertical-align: middle;\n",
       "    }\n",
       "\n",
       "    .dataframe tbody tr th {\n",
       "        vertical-align: top;\n",
       "    }\n",
       "\n",
       "    .dataframe thead th {\n",
       "        text-align: right;\n",
       "    }\n",
       "</style>\n",
       "<table border=\"1\" class=\"dataframe\">\n",
       "  <thead>\n",
       "    <tr style=\"text-align: right;\">\n",
       "      <th></th>\n",
       "      <th>ID</th>\n",
       "      <th>item_cnt_month</th>\n",
       "    </tr>\n",
       "  </thead>\n",
       "  <tbody>\n",
       "    <tr>\n",
       "      <th>0</th>\n",
       "      <td>0</td>\n",
       "      <td>0.503349</td>\n",
       "    </tr>\n",
       "    <tr>\n",
       "      <th>1</th>\n",
       "      <td>1</td>\n",
       "      <td>0.247819</td>\n",
       "    </tr>\n",
       "    <tr>\n",
       "      <th>2</th>\n",
       "      <td>2</td>\n",
       "      <td>1.069582</td>\n",
       "    </tr>\n",
       "    <tr>\n",
       "      <th>3</th>\n",
       "      <td>3</td>\n",
       "      <td>0.370433</td>\n",
       "    </tr>\n",
       "    <tr>\n",
       "      <th>4</th>\n",
       "      <td>4</td>\n",
       "      <td>4.300325</td>\n",
       "    </tr>\n",
       "  </tbody>\n",
       "</table>\n",
       "</div>"
      ],
      "text/plain": [
       "   ID  item_cnt_month\n",
       "0   0        0.503349\n",
       "1   1        0.247819\n",
       "2   2        1.069582\n",
       "3   3        0.370433\n",
       "4   4        4.300325"
      ]
     },
     "execution_count": 16,
     "metadata": {},
     "output_type": "execute_result"
    }
   ],
   "source": [
    "sub.to_csv('sub.csv', index_label='ID')\n",
    "pd.read_csv('sub.csv').head()"
   ]
  }
 ],
 "metadata": {
  "kernelspec": {
   "display_name": "Python 3",
   "language": "python",
   "name": "python3"
  },
  "language_info": {
   "codemirror_mode": {
    "name": "ipython",
    "version": 3
   },
   "file_extension": ".py",
   "mimetype": "text/x-python",
   "name": "python",
   "nbconvert_exporter": "python",
   "pygments_lexer": "ipython3",
   "version": "3.6.6"
  }
 },
 "nbformat": 4,
 "nbformat_minor": 1
}
