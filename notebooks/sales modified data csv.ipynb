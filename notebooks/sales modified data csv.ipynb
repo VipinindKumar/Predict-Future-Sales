{
  "cells": [
    {
      "metadata": {
        "_uuid": "8f2839f25d086af736a60e9eeb907d3b93b6e0e5",
        "_cell_guid": "b1076dfc-b9ad-4769-8c92-a6c4dae69d19",
        "trusted": true
      },
      "cell_type": "code",
      "source": "# This Python 3 environment comes with many helpful analytics libraries installed\n# It is defined by the kaggle/python docker image: https://github.com/kaggle/docker-python\n# For example, here's several helpful packages to load in \n\nimport numpy as np # linear algebra\nimport pandas as pd # data processing, CSV file I/O (e.g. pd.read_csv)\n\n# Input data files are available in the \"../input/\" directory.\n# For example, running this (by clicking run or pressing Shift+Enter) will list the files in the input directory\n\nimport os\nprint(os.listdir(\"../input\"))\n\n# Any results you write to the current directory are saved as output.",
      "execution_count": 1,
      "outputs": [
        {
          "output_type": "stream",
          "text": "['items.csv', 'sample_submission.csv', 'test.csv', 'sales_train.csv', 'item_categories.csv', 'shops.csv']\n",
          "name": "stdout"
        }
      ]
    },
    {
      "metadata": {
        "_cell_guid": "79c7e3d0-c299-4dcb-8224-4455121ee9b0",
        "_uuid": "d629ff2d2480ee46fbb7e2d37f6b5fab8052498a",
        "trusted": true
      },
      "cell_type": "code",
      "source": "import pandas as pd\nimport numpy as np\nfrom itertools import product",
      "execution_count": 2,
      "outputs": []
    },
    {
      "metadata": {
        "trusted": true,
        "_uuid": "54217075a8b87145457b2b9491acc967e31ed14d"
      },
      "cell_type": "code",
      "source": "sales = pd.read_csv('../input/sales_train.csv')\nsales.head()",
      "execution_count": 3,
      "outputs": [
        {
          "output_type": "execute_result",
          "execution_count": 3,
          "data": {
            "text/plain": "         date  date_block_num      ...       item_price  item_cnt_day\n0  02.01.2013               0      ...           999.00           1.0\n1  03.01.2013               0      ...           899.00           1.0\n2  05.01.2013               0      ...           899.00          -1.0\n3  06.01.2013               0      ...          1709.05           1.0\n4  15.01.2013               0      ...          1099.00           1.0\n\n[5 rows x 6 columns]",
            "text/html": "<div>\n<style scoped>\n    .dataframe tbody tr th:only-of-type {\n        vertical-align: middle;\n    }\n\n    .dataframe tbody tr th {\n        vertical-align: top;\n    }\n\n    .dataframe thead th {\n        text-align: right;\n    }\n</style>\n<table border=\"1\" class=\"dataframe\">\n  <thead>\n    <tr style=\"text-align: right;\">\n      <th></th>\n      <th>date</th>\n      <th>date_block_num</th>\n      <th>shop_id</th>\n      <th>item_id</th>\n      <th>item_price</th>\n      <th>item_cnt_day</th>\n    </tr>\n  </thead>\n  <tbody>\n    <tr>\n      <th>0</th>\n      <td>02.01.2013</td>\n      <td>0</td>\n      <td>59</td>\n      <td>22154</td>\n      <td>999.00</td>\n      <td>1.0</td>\n    </tr>\n    <tr>\n      <th>1</th>\n      <td>03.01.2013</td>\n      <td>0</td>\n      <td>25</td>\n      <td>2552</td>\n      <td>899.00</td>\n      <td>1.0</td>\n    </tr>\n    <tr>\n      <th>2</th>\n      <td>05.01.2013</td>\n      <td>0</td>\n      <td>25</td>\n      <td>2552</td>\n      <td>899.00</td>\n      <td>-1.0</td>\n    </tr>\n    <tr>\n      <th>3</th>\n      <td>06.01.2013</td>\n      <td>0</td>\n      <td>25</td>\n      <td>2554</td>\n      <td>1709.05</td>\n      <td>1.0</td>\n    </tr>\n    <tr>\n      <th>4</th>\n      <td>15.01.2013</td>\n      <td>0</td>\n      <td>25</td>\n      <td>2555</td>\n      <td>1099.00</td>\n      <td>1.0</td>\n    </tr>\n  </tbody>\n</table>\n</div>"
          },
          "metadata": {}
        }
      ]
    },
    {
      "metadata": {
        "trusted": true,
        "_uuid": "7a10835f74fa38f56f194c86dcbe547722c1fcd6"
      },
      "cell_type": "code",
      "source": "items = pd.read_csv('../input/items.csv')\ntest = pd.read_csv('../input/test.csv')\nitem_categories = pd.read_csv('../input/item_categories.csv')\nshops = pd.read_csv('../input/shops.csv')\n\nsales['date'] = pd.to_datetime(sales['date'], format='%d.%m.%Y')",
      "execution_count": 4,
      "outputs": []
    },
    {
      "metadata": {
        "_uuid": "bb8d139431d4efe0e37275a94f875efb2e4d05ed"
      },
      "cell_type": "markdown",
      "source": "prediction are need to be made based on monthly data"
    },
    {
      "metadata": {
        "trusted": true,
        "_uuid": "03118ab9575058474f5de42ea3e59634e8ec9e34"
      },
      "cell_type": "code",
      "source": "index_cols = ['date_block_num', 'shop_id', 'item_id']\n\n# For every month we create a grid from all shops/items combinations from that month\ngrid = [] \nfor block_num in sales['date_block_num'].unique():\n    cur_shops = sales[sales['date_block_num']==block_num]['shop_id'].unique()\n    cur_items = sales[sales['date_block_num']==block_num]['item_id'].unique()\n    grid.append(np.array(list(product(*[[block_num], cur_shops, cur_items])),dtype='int32'))\n\n#turn the grid into pandas dataframe\ngrid = pd.DataFrame(np.vstack(grid), columns = index_cols,dtype=np.int32)\n\n#####################\n#get aggregated values for (shop_id, item_id, month)\n#gb = sales.groupby(index_cols,as_index=False).agg({'item_cnt_day':{'target': 'sum'}})\n#fix column names\n#gb.columns = [col[0] if col[-1]=='' else col[-1] for col in gb.columns.values]\n\n# alternative way to sum item_cnt_day, without warning from pandas for using dict in agg()\ngb = sales.groupby(index_cols,as_index=False).item_cnt_day.sum()\ngb = gb.rename(columns={'item_cnt_day': 'item_cnt_month'})\n#####################\n\n#join aggregated data to the grid\nall_data = pd.merge(grid,gb,how='left',on=index_cols).fillna(0)\n\n#sort the data\nall_data.sort_values(['date_block_num','shop_id','item_id'],inplace=True)",
      "execution_count": null,
      "outputs": []
    },
    {
      "metadata": {
        "trusted": true,
        "_uuid": "fe6da1ca3c846df490bca613cf636c06c8d629ec"
      },
      "cell_type": "code",
      "source": "all_data.to_csv('all_data.csv', index=False)",
      "execution_count": 33,
      "outputs": []
    },
    {
      "metadata": {
        "trusted": true,
        "_uuid": "3ce05211e55a06c619c2e8c3c0acf7e76109d302"
      },
      "cell_type": "code",
      "source": "pd.read_csv('all_data.csv')",
      "execution_count": 34,
      "outputs": [
        {
          "output_type": "execute_result",
          "execution_count": 34,
          "data": {
            "text/plain": "          date_block_num  shop_id  item_id  item_cnt_month\n0                      0       59    22154             1.0\n1                      0       59     2552             0.0\n2                      0       59     2554             0.0\n3                      0       59     2555             0.0\n4                      0       59     2564             0.0\n5                      0       59     2565             0.0\n6                      0       59     2572             0.0\n7                      0       59     2573             0.0\n8                      0       59     2574             2.0\n9                      0       59     2593             0.0\n10                     0       59     2604             0.0\n11                     0       59     2607             0.0\n12                     0       59     2609             0.0\n13                     0       59     2548             0.0\n14                     0       59     2611             0.0\n15                     0       59     2546             0.0\n16                     0       59     2515             0.0\n17                     0       59     2705             1.0\n18                     0       59     2715             0.0\n19                     0       59     2716             0.0\n20                     0       59     2719             1.0\n21                     0       59     2720             0.0\n22                     0       59     2473             0.0\n23                     0       59     2480             0.0\n24                     0       59     2731             1.0\n25                     0       59     2746             9.0\n26                     0       59     2748             1.0\n27                     0       59     2522             0.0\n28                     0       59     2614             0.0\n29                     0       59     2798             0.0\n...                  ...      ...      ...             ...\n10913820              33       21    10187             0.0\n10913821              33       21     8250             0.0\n10913822              33       21     6245             0.0\n10913823              33       21     6279             0.0\n10913824              33       21     6480             0.0\n10913825              33       21     6028             0.0\n10913826              33       21     6345             0.0\n10913827              33       21     8504             0.0\n10913828              33       21     6855             0.0\n10913829              33       21     7903             0.0\n10913830              33       21     7904             0.0\n10913831              33       21     7930             0.0\n10913832              33       21     8474             0.0\n10913833              33       21     8245             0.0\n10913834              33       21     8189             0.0\n10913835              33       21     7998             0.0\n10913836              33       21     8037             0.0\n10913837              33       21     8169             0.0\n10913838              33       21     7583             0.0\n10913839              33       21     7590             0.0\n10913840              33       21     7610             0.0\n10913841              33       21     7612             0.0\n10913842              33       21     7615             0.0\n10913843              33       21     7627             0.0\n10913844              33       21     7628             0.0\n10913845              33       21     7635             0.0\n10913846              33       21     7638             0.0\n10913847              33       21     7640             0.0\n10913848              33       21     7632             0.0\n10913849              33       21     7440             0.0\n\n[10913850 rows x 4 columns]",
            "text/html": "<div>\n<style scoped>\n    .dataframe tbody tr th:only-of-type {\n        vertical-align: middle;\n    }\n\n    .dataframe tbody tr th {\n        vertical-align: top;\n    }\n\n    .dataframe thead th {\n        text-align: right;\n    }\n</style>\n<table border=\"1\" class=\"dataframe\">\n  <thead>\n    <tr style=\"text-align: right;\">\n      <th></th>\n      <th>date_block_num</th>\n      <th>shop_id</th>\n      <th>item_id</th>\n      <th>item_cnt_month</th>\n    </tr>\n  </thead>\n  <tbody>\n    <tr>\n      <th>0</th>\n      <td>0</td>\n      <td>59</td>\n      <td>22154</td>\n      <td>1.0</td>\n    </tr>\n    <tr>\n      <th>1</th>\n      <td>0</td>\n      <td>59</td>\n      <td>2552</td>\n      <td>0.0</td>\n    </tr>\n    <tr>\n      <th>2</th>\n      <td>0</td>\n      <td>59</td>\n      <td>2554</td>\n      <td>0.0</td>\n    </tr>\n    <tr>\n      <th>3</th>\n      <td>0</td>\n      <td>59</td>\n      <td>2555</td>\n      <td>0.0</td>\n    </tr>\n    <tr>\n      <th>4</th>\n      <td>0</td>\n      <td>59</td>\n      <td>2564</td>\n      <td>0.0</td>\n    </tr>\n    <tr>\n      <th>5</th>\n      <td>0</td>\n      <td>59</td>\n      <td>2565</td>\n      <td>0.0</td>\n    </tr>\n    <tr>\n      <th>6</th>\n      <td>0</td>\n      <td>59</td>\n      <td>2572</td>\n      <td>0.0</td>\n    </tr>\n    <tr>\n      <th>7</th>\n      <td>0</td>\n      <td>59</td>\n      <td>2573</td>\n      <td>0.0</td>\n    </tr>\n    <tr>\n      <th>8</th>\n      <td>0</td>\n      <td>59</td>\n      <td>2574</td>\n      <td>2.0</td>\n    </tr>\n    <tr>\n      <th>9</th>\n      <td>0</td>\n      <td>59</td>\n      <td>2593</td>\n      <td>0.0</td>\n    </tr>\n    <tr>\n      <th>10</th>\n      <td>0</td>\n      <td>59</td>\n      <td>2604</td>\n      <td>0.0</td>\n    </tr>\n    <tr>\n      <th>11</th>\n      <td>0</td>\n      <td>59</td>\n      <td>2607</td>\n      <td>0.0</td>\n    </tr>\n    <tr>\n      <th>12</th>\n      <td>0</td>\n      <td>59</td>\n      <td>2609</td>\n      <td>0.0</td>\n    </tr>\n    <tr>\n      <th>13</th>\n      <td>0</td>\n      <td>59</td>\n      <td>2548</td>\n      <td>0.0</td>\n    </tr>\n    <tr>\n      <th>14</th>\n      <td>0</td>\n      <td>59</td>\n      <td>2611</td>\n      <td>0.0</td>\n    </tr>\n    <tr>\n      <th>15</th>\n      <td>0</td>\n      <td>59</td>\n      <td>2546</td>\n      <td>0.0</td>\n    </tr>\n    <tr>\n      <th>16</th>\n      <td>0</td>\n      <td>59</td>\n      <td>2515</td>\n      <td>0.0</td>\n    </tr>\n    <tr>\n      <th>17</th>\n      <td>0</td>\n      <td>59</td>\n      <td>2705</td>\n      <td>1.0</td>\n    </tr>\n    <tr>\n      <th>18</th>\n      <td>0</td>\n      <td>59</td>\n      <td>2715</td>\n      <td>0.0</td>\n    </tr>\n    <tr>\n      <th>19</th>\n      <td>0</td>\n      <td>59</td>\n      <td>2716</td>\n      <td>0.0</td>\n    </tr>\n    <tr>\n      <th>20</th>\n      <td>0</td>\n      <td>59</td>\n      <td>2719</td>\n      <td>1.0</td>\n    </tr>\n    <tr>\n      <th>21</th>\n      <td>0</td>\n      <td>59</td>\n      <td>2720</td>\n      <td>0.0</td>\n    </tr>\n    <tr>\n      <th>22</th>\n      <td>0</td>\n      <td>59</td>\n      <td>2473</td>\n      <td>0.0</td>\n    </tr>\n    <tr>\n      <th>23</th>\n      <td>0</td>\n      <td>59</td>\n      <td>2480</td>\n      <td>0.0</td>\n    </tr>\n    <tr>\n      <th>24</th>\n      <td>0</td>\n      <td>59</td>\n      <td>2731</td>\n      <td>1.0</td>\n    </tr>\n    <tr>\n      <th>25</th>\n      <td>0</td>\n      <td>59</td>\n      <td>2746</td>\n      <td>9.0</td>\n    </tr>\n    <tr>\n      <th>26</th>\n      <td>0</td>\n      <td>59</td>\n      <td>2748</td>\n      <td>1.0</td>\n    </tr>\n    <tr>\n      <th>27</th>\n      <td>0</td>\n      <td>59</td>\n      <td>2522</td>\n      <td>0.0</td>\n    </tr>\n    <tr>\n      <th>28</th>\n      <td>0</td>\n      <td>59</td>\n      <td>2614</td>\n      <td>0.0</td>\n    </tr>\n    <tr>\n      <th>29</th>\n      <td>0</td>\n      <td>59</td>\n      <td>2798</td>\n      <td>0.0</td>\n    </tr>\n    <tr>\n      <th>...</th>\n      <td>...</td>\n      <td>...</td>\n      <td>...</td>\n      <td>...</td>\n    </tr>\n    <tr>\n      <th>10913820</th>\n      <td>33</td>\n      <td>21</td>\n      <td>10187</td>\n      <td>0.0</td>\n    </tr>\n    <tr>\n      <th>10913821</th>\n      <td>33</td>\n      <td>21</td>\n      <td>8250</td>\n      <td>0.0</td>\n    </tr>\n    <tr>\n      <th>10913822</th>\n      <td>33</td>\n      <td>21</td>\n      <td>6245</td>\n      <td>0.0</td>\n    </tr>\n    <tr>\n      <th>10913823</th>\n      <td>33</td>\n      <td>21</td>\n      <td>6279</td>\n      <td>0.0</td>\n    </tr>\n    <tr>\n      <th>10913824</th>\n      <td>33</td>\n      <td>21</td>\n      <td>6480</td>\n      <td>0.0</td>\n    </tr>\n    <tr>\n      <th>10913825</th>\n      <td>33</td>\n      <td>21</td>\n      <td>6028</td>\n      <td>0.0</td>\n    </tr>\n    <tr>\n      <th>10913826</th>\n      <td>33</td>\n      <td>21</td>\n      <td>6345</td>\n      <td>0.0</td>\n    </tr>\n    <tr>\n      <th>10913827</th>\n      <td>33</td>\n      <td>21</td>\n      <td>8504</td>\n      <td>0.0</td>\n    </tr>\n    <tr>\n      <th>10913828</th>\n      <td>33</td>\n      <td>21</td>\n      <td>6855</td>\n      <td>0.0</td>\n    </tr>\n    <tr>\n      <th>10913829</th>\n      <td>33</td>\n      <td>21</td>\n      <td>7903</td>\n      <td>0.0</td>\n    </tr>\n    <tr>\n      <th>10913830</th>\n      <td>33</td>\n      <td>21</td>\n      <td>7904</td>\n      <td>0.0</td>\n    </tr>\n    <tr>\n      <th>10913831</th>\n      <td>33</td>\n      <td>21</td>\n      <td>7930</td>\n      <td>0.0</td>\n    </tr>\n    <tr>\n      <th>10913832</th>\n      <td>33</td>\n      <td>21</td>\n      <td>8474</td>\n      <td>0.0</td>\n    </tr>\n    <tr>\n      <th>10913833</th>\n      <td>33</td>\n      <td>21</td>\n      <td>8245</td>\n      <td>0.0</td>\n    </tr>\n    <tr>\n      <th>10913834</th>\n      <td>33</td>\n      <td>21</td>\n      <td>8189</td>\n      <td>0.0</td>\n    </tr>\n    <tr>\n      <th>10913835</th>\n      <td>33</td>\n      <td>21</td>\n      <td>7998</td>\n      <td>0.0</td>\n    </tr>\n    <tr>\n      <th>10913836</th>\n      <td>33</td>\n      <td>21</td>\n      <td>8037</td>\n      <td>0.0</td>\n    </tr>\n    <tr>\n      <th>10913837</th>\n      <td>33</td>\n      <td>21</td>\n      <td>8169</td>\n      <td>0.0</td>\n    </tr>\n    <tr>\n      <th>10913838</th>\n      <td>33</td>\n      <td>21</td>\n      <td>7583</td>\n      <td>0.0</td>\n    </tr>\n    <tr>\n      <th>10913839</th>\n      <td>33</td>\n      <td>21</td>\n      <td>7590</td>\n      <td>0.0</td>\n    </tr>\n    <tr>\n      <th>10913840</th>\n      <td>33</td>\n      <td>21</td>\n      <td>7610</td>\n      <td>0.0</td>\n    </tr>\n    <tr>\n      <th>10913841</th>\n      <td>33</td>\n      <td>21</td>\n      <td>7612</td>\n      <td>0.0</td>\n    </tr>\n    <tr>\n      <th>10913842</th>\n      <td>33</td>\n      <td>21</td>\n      <td>7615</td>\n      <td>0.0</td>\n    </tr>\n    <tr>\n      <th>10913843</th>\n      <td>33</td>\n      <td>21</td>\n      <td>7627</td>\n      <td>0.0</td>\n    </tr>\n    <tr>\n      <th>10913844</th>\n      <td>33</td>\n      <td>21</td>\n      <td>7628</td>\n      <td>0.0</td>\n    </tr>\n    <tr>\n      <th>10913845</th>\n      <td>33</td>\n      <td>21</td>\n      <td>7635</td>\n      <td>0.0</td>\n    </tr>\n    <tr>\n      <th>10913846</th>\n      <td>33</td>\n      <td>21</td>\n      <td>7638</td>\n      <td>0.0</td>\n    </tr>\n    <tr>\n      <th>10913847</th>\n      <td>33</td>\n      <td>21</td>\n      <td>7640</td>\n      <td>0.0</td>\n    </tr>\n    <tr>\n      <th>10913848</th>\n      <td>33</td>\n      <td>21</td>\n      <td>7632</td>\n      <td>0.0</td>\n    </tr>\n    <tr>\n      <th>10913849</th>\n      <td>33</td>\n      <td>21</td>\n      <td>7440</td>\n      <td>0.0</td>\n    </tr>\n  </tbody>\n</table>\n<p>10913850 rows × 4 columns</p>\n</div>"
          },
          "metadata": {}
        }
      ]
    },
    {
      "metadata": {
        "trusted": true,
        "_uuid": "63c3384e34aa47fb27d49bef99f52ea545cff02b"
      },
      "cell_type": "code",
      "source": "",
      "execution_count": null,
      "outputs": []
    }
  ],
  "metadata": {
    "kernelspec": {
      "display_name": "Python 3",
      "language": "python",
      "name": "python3"
    },
    "language_info": {
      "name": "python",
      "version": "3.6.6",
      "mimetype": "text/x-python",
      "codemirror_mode": {
        "name": "ipython",
        "version": 3
      },
      "pygments_lexer": "ipython3",
      "nbconvert_exporter": "python",
      "file_extension": ".py"
    }
  },
  "nbformat": 4,
  "nbformat_minor": 1
}