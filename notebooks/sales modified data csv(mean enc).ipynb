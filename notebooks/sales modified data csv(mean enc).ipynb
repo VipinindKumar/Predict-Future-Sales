{
  "cells": [
    {
      "metadata": {
        "_uuid": "8f2839f25d086af736a60e9eeb907d3b93b6e0e5",
        "_cell_guid": "b1076dfc-b9ad-4769-8c92-a6c4dae69d19",
        "trusted": true
      },
      "cell_type": "code",
      "source": "# This Python 3 environment comes with many helpful analytics libraries installed\n# It is defined by the kaggle/python docker image: https://github.com/kaggle/docker-python\n# For example, here's several helpful packages to load in \n\nimport numpy as np # linear algebra\nimport pandas as pd # data processing, CSV file I/O (e.g. pd.read_csv)\n\n# Input data files are available in the \"../input/\" directory.\n# For example, running this (by clicking run or pressing Shift+Enter) will list the files in the input directory\n\nimport os\nprint(os.listdir(\"../input\"))\n\n# Any results you write to the current directory are saved as output.",
      "execution_count": 1,
      "outputs": [
        {
          "output_type": "stream",
          "text": "['items.csv', 'sample_submission.csv', 'test.csv', 'sales_train.csv', 'item_categories.csv', 'shops.csv']\n",
          "name": "stdout"
        }
      ]
    },
    {
      "metadata": {
        "_cell_guid": "79c7e3d0-c299-4dcb-8224-4455121ee9b0",
        "_uuid": "d629ff2d2480ee46fbb7e2d37f6b5fab8052498a",
        "trusted": true
      },
      "cell_type": "code",
      "source": "import pandas as pd\nimport numpy as np\nfrom itertools import product",
      "execution_count": 2,
      "outputs": []
    },
    {
      "metadata": {
        "trusted": true,
        "_uuid": "54217075a8b87145457b2b9491acc967e31ed14d"
      },
      "cell_type": "code",
      "source": "sales = pd.read_csv('../input/sales_train.csv')\nsales.head()",
      "execution_count": 3,
      "outputs": [
        {
          "output_type": "execute_result",
          "execution_count": 3,
          "data": {
            "text/plain": "         date  date_block_num      ...       item_price  item_cnt_day\n0  02.01.2013               0      ...           999.00           1.0\n1  03.01.2013               0      ...           899.00           1.0\n2  05.01.2013               0      ...           899.00          -1.0\n3  06.01.2013               0      ...          1709.05           1.0\n4  15.01.2013               0      ...          1099.00           1.0\n\n[5 rows x 6 columns]",
            "text/html": "<div>\n<style scoped>\n    .dataframe tbody tr th:only-of-type {\n        vertical-align: middle;\n    }\n\n    .dataframe tbody tr th {\n        vertical-align: top;\n    }\n\n    .dataframe thead th {\n        text-align: right;\n    }\n</style>\n<table border=\"1\" class=\"dataframe\">\n  <thead>\n    <tr style=\"text-align: right;\">\n      <th></th>\n      <th>date</th>\n      <th>date_block_num</th>\n      <th>shop_id</th>\n      <th>item_id</th>\n      <th>item_price</th>\n      <th>item_cnt_day</th>\n    </tr>\n  </thead>\n  <tbody>\n    <tr>\n      <th>0</th>\n      <td>02.01.2013</td>\n      <td>0</td>\n      <td>59</td>\n      <td>22154</td>\n      <td>999.00</td>\n      <td>1.0</td>\n    </tr>\n    <tr>\n      <th>1</th>\n      <td>03.01.2013</td>\n      <td>0</td>\n      <td>25</td>\n      <td>2552</td>\n      <td>899.00</td>\n      <td>1.0</td>\n    </tr>\n    <tr>\n      <th>2</th>\n      <td>05.01.2013</td>\n      <td>0</td>\n      <td>25</td>\n      <td>2552</td>\n      <td>899.00</td>\n      <td>-1.0</td>\n    </tr>\n    <tr>\n      <th>3</th>\n      <td>06.01.2013</td>\n      <td>0</td>\n      <td>25</td>\n      <td>2554</td>\n      <td>1709.05</td>\n      <td>1.0</td>\n    </tr>\n    <tr>\n      <th>4</th>\n      <td>15.01.2013</td>\n      <td>0</td>\n      <td>25</td>\n      <td>2555</td>\n      <td>1099.00</td>\n      <td>1.0</td>\n    </tr>\n  </tbody>\n</table>\n</div>"
          },
          "metadata": {}
        }
      ]
    },
    {
      "metadata": {
        "trusted": true,
        "_uuid": "7a10835f74fa38f56f194c86dcbe547722c1fcd6"
      },
      "cell_type": "code",
      "source": "items = pd.read_csv('../input/items.csv')\ntest = pd.read_csv('../input/test.csv')\nitem_categories = pd.read_csv('../input/item_categories.csv')\nshops = pd.read_csv('../input/shops.csv')\n\nsales['date'] = pd.to_datetime(sales['date'], format='%d.%m.%Y')",
      "execution_count": 4,
      "outputs": []
    },
    {
      "metadata": {
        "_uuid": "bb8d139431d4efe0e37275a94f875efb2e4d05ed"
      },
      "cell_type": "markdown",
      "source": "- prediction are need to be made based on monthly data"
    },
    {
      "metadata": {
        "trusted": true,
        "_uuid": "03118ab9575058474f5de42ea3e59634e8ec9e34"
      },
      "cell_type": "code",
      "source": "# create grid of shop and items and add sum() of their item_cnt_day (0 for NaN)\nindex_cols = ['date_block_num', 'shop_id', 'item_id']\n\n# For every month we create a grid from all shops/items combinations from that month\ngrid = [] \nfor block_num in sales['date_block_num'].unique():\n    cur_shops = sales[sales['date_block_num']==block_num]['shop_id'].unique()\n    cur_items = sales[sales['date_block_num']==block_num]['item_id'].unique()\n    grid.append(np.array(list(product(*[[block_num], cur_shops, cur_items])),dtype='int32'))\n\n#turn the grid into pandas dataframe\ngrid = pd.DataFrame(np.vstack(grid), columns = index_cols,dtype=np.int32)\n\n#####################\n#get aggregated values for (shop_id, item_id, month)\n#gb = sales.groupby(index_cols,as_index=False).agg({'item_cnt_day':{'target': 'sum'}})\n#fix column names\n#gb.columns = [col[0] if col[-1]=='' else col[-1] for col in gb.columns.values]\n\n# alternative way to sum item_cnt_day, without warning from pandas for using dict in agg()\ngb = sales.groupby(index_cols,as_index=False).item_cnt_day.sum()\ngb = gb.rename(columns={'item_cnt_day': 'item_cnt_month'})\n#####################\n\n#join aggregated data to the grid\nall_data = pd.merge(grid,gb,how='left',on=index_cols).fillna(0)\n\n#sort the data\nall_data.sort_values(['date_block_num','shop_id','item_id'],inplace=True)",
      "execution_count": 5,
      "outputs": []
    },
    {
      "metadata": {
        "trusted": true,
        "_uuid": "63c3384e34aa47fb27d49bef99f52ea545cff02b"
      },
      "cell_type": "code",
      "source": "all_data.head(10)",
      "execution_count": 9,
      "outputs": [
        {
          "output_type": "execute_result",
          "execution_count": 9,
          "data": {
            "text/plain": "        date_block_num  shop_id  item_id  item_cnt_month\n139255               0        0       19             0.0\n141495               0        0       27             0.0\n144968               0        0       28             0.0\n142661               0        0       29             0.0\n138947               0        0       32             6.0\n138948               0        0       33             3.0\n138949               0        0       34             0.0\n139247               0        0       35             1.0\n142672               0        0       40             0.0\n142065               0        0       41             0.0",
            "text/html": "<div>\n<style scoped>\n    .dataframe tbody tr th:only-of-type {\n        vertical-align: middle;\n    }\n\n    .dataframe tbody tr th {\n        vertical-align: top;\n    }\n\n    .dataframe thead th {\n        text-align: right;\n    }\n</style>\n<table border=\"1\" class=\"dataframe\">\n  <thead>\n    <tr style=\"text-align: right;\">\n      <th></th>\n      <th>date_block_num</th>\n      <th>shop_id</th>\n      <th>item_id</th>\n      <th>item_cnt_month</th>\n    </tr>\n  </thead>\n  <tbody>\n    <tr>\n      <th>139255</th>\n      <td>0</td>\n      <td>0</td>\n      <td>19</td>\n      <td>0.0</td>\n    </tr>\n    <tr>\n      <th>141495</th>\n      <td>0</td>\n      <td>0</td>\n      <td>27</td>\n      <td>0.0</td>\n    </tr>\n    <tr>\n      <th>144968</th>\n      <td>0</td>\n      <td>0</td>\n      <td>28</td>\n      <td>0.0</td>\n    </tr>\n    <tr>\n      <th>142661</th>\n      <td>0</td>\n      <td>0</td>\n      <td>29</td>\n      <td>0.0</td>\n    </tr>\n    <tr>\n      <th>138947</th>\n      <td>0</td>\n      <td>0</td>\n      <td>32</td>\n      <td>6.0</td>\n    </tr>\n    <tr>\n      <th>138948</th>\n      <td>0</td>\n      <td>0</td>\n      <td>33</td>\n      <td>3.0</td>\n    </tr>\n    <tr>\n      <th>138949</th>\n      <td>0</td>\n      <td>0</td>\n      <td>34</td>\n      <td>0.0</td>\n    </tr>\n    <tr>\n      <th>139247</th>\n      <td>0</td>\n      <td>0</td>\n      <td>35</td>\n      <td>1.0</td>\n    </tr>\n    <tr>\n      <th>142672</th>\n      <td>0</td>\n      <td>0</td>\n      <td>40</td>\n      <td>0.0</td>\n    </tr>\n    <tr>\n      <th>142065</th>\n      <td>0</td>\n      <td>0</td>\n      <td>41</td>\n      <td>0.0</td>\n    </tr>\n  </tbody>\n</table>\n</div>"
          },
          "metadata": {}
        }
      ]
    },
    {
      "metadata": {
        "_uuid": "fbab3d6d0ae25448c3fd816bd3fe7a5217dc4769"
      },
      "cell_type": "markdown",
      "source": "- Create target mean encoding feature with CV loop regularization using KFold"
    },
    {
      "metadata": {
        "trusted": true,
        "_uuid": "2b679a211c1721571abe16114c4c89a5f23c8138"
      },
      "cell_type": "code",
      "source": "from sklearn.model_selection import KFold\n\nkf = KFold(n_splits=5, shuffle=False)\n\nall_data['item_target_enc'] = np.NaN\n\nfor rest, curr in kf.split(all_data):\n    # divide the data using folds\n    #rest_fold, cur_fold = all_data[rest], all_data[curr]\n    \n    # use rest_fold to calculate mean target\n    #all_data.iloc[curr]['item_target_enc'] = all_data.iloc[rest].groupby('item_id')['item_cnt_month'].transform('mean')\n    # 8e-16\n    # should be all_data.iloc[curr, all_data.columns.get_loc('item_target_enc')]\n    \n    #item_id_target_mean = all_data.iloc[rest].groupby('item_id').item_cnt_month.mean()\n    #all_data.ix[curr,'item_target_enc'] = all_data['item_id'].map(item_id_target_mean)\n    #.ix is depreciated\n    # 0.41650796922\n    \n    item_id_target_mean = all_data.iloc[rest].groupby('item_id').item_cnt_month.mean()\n    all_data.loc[all_data.index[curr],'item_target_enc'] = all_data['item_id'].map(item_id_target_mean)\n    # 0.4164590712798811\n    \n    #all_data.ix[curr, 'item_target_enc'] = all_data.iloc[rest].groupby('item_id')['item_cnt_month'].transform('mean')\n    # 0.0801429988734\n    \n# Fill NaNs\nall_data['item_target_enc'].fillna(0.33427, inplace=True)\n\nencoded_feature = all_data['item_target_enc'].values\n\n# compute correlation\nnp.corrcoef(all_data['item_cnt_month'].values, encoded_feature)[0][1]",
      "execution_count": 21,
      "outputs": [
        {
          "output_type": "execute_result",
          "execution_count": 21,
          "data": {
            "text/plain": "0.41645904630880237"
          },
          "metadata": {}
        }
      ]
    },
    {
      "metadata": {
        "trusted": true,
        "_uuid": "14838d42969cf958f8b9d9450a1f92b742f1a1fd"
      },
      "cell_type": "code",
      "source": "all_data.item_cnt_month.mean()",
      "execution_count": 20,
      "outputs": [
        {
          "output_type": "execute_result",
          "execution_count": 20,
          "data": {
            "text/plain": "0.3342730567123426"
          },
          "metadata": {}
        }
      ]
    },
    {
      "metadata": {
        "trusted": true,
        "_uuid": "189747fd50d806c7b3c228a485a7e4466e771774"
      },
      "cell_type": "code",
      "source": "all_data.to_csv('all_data.csv', index=False)",
      "execution_count": 22,
      "outputs": []
    },
    {
      "metadata": {
        "trusted": true,
        "_uuid": "01902dce665245903dd2b580dac78b4f404dc69c"
      },
      "cell_type": "code",
      "source": "pd.read_csv('all_data.csv')",
      "execution_count": 17,
      "outputs": [
        {
          "output_type": "execute_result",
          "execution_count": 17,
          "data": {
            "text/plain": "          date_block_num       ...         item_target_enc\n0                      0       ...                0.334300\n1                      0       ...                0.048523\n2                      0       ...                0.142424\n3                      0       ...                0.030303\n4                      0       ...                0.894020\n5                      0       ...                0.485238\n6                      0       ...                0.107018\n7                      0       ...                0.020408\n8                      0       ...                0.054717\n9                      0       ...                0.038136\n10                     0       ...                0.063331\n11                     0       ...                0.040000\n12                     0       ...                0.078091\n13                     0       ...                0.106737\n14                     0       ...                0.049808\n15                     0       ...                0.041667\n16                     0       ...                0.040388\n17                     0       ...                0.098410\n18                     0       ...                0.334300\n19                     0       ...                0.117335\n20                     0       ...                0.046131\n21                     0       ...                0.117335\n22                     0       ...                0.056738\n23                     0       ...                0.124561\n24                     0       ...                0.042463\n25                     0       ...                0.097653\n26                     0       ...                0.131455\n27                     0       ...                0.067138\n28                     0       ...                0.000000\n29                     0       ...                0.036364\n...                  ...       ...                     ...\n10913820              33       ...                1.030675\n10913821              33       ...                0.184644\n10913822              33       ...                0.334300\n10913823              33       ...                1.925700\n10913824              33       ...                0.175172\n10913825              33       ...                0.457978\n10913826              33       ...                0.220441\n10913827              33       ...                0.894942\n10913828              33       ...                1.866540\n10913829              33       ...                2.333052\n10913830              33       ...                3.155143\n10913831              33       ...                0.722597\n10913832              33       ...                1.428331\n10913833              33       ...                0.334300\n10913834              33       ...                0.334300\n10913835              33       ...                0.334300\n10913836              33       ...                0.334300\n10913837              33       ...                0.068047\n10913838              33       ...                0.124077\n10913839              33       ...                0.122260\n10913840              33       ...                0.565657\n10913841              33       ...                0.245363\n10913842              33       ...                0.685268\n10913843              33       ...                0.098630\n10913844              33       ...                0.334300\n10913845              33       ...                0.020000\n10913846              33       ...                0.334300\n10913847              33       ...                0.334300\n10913848              33       ...                0.349227\n10913849              33       ...                1.231425\n\n[10913850 rows x 5 columns]",
            "text/html": "<div>\n<style scoped>\n    .dataframe tbody tr th:only-of-type {\n        vertical-align: middle;\n    }\n\n    .dataframe tbody tr th {\n        vertical-align: top;\n    }\n\n    .dataframe thead th {\n        text-align: right;\n    }\n</style>\n<table border=\"1\" class=\"dataframe\">\n  <thead>\n    <tr style=\"text-align: right;\">\n      <th></th>\n      <th>date_block_num</th>\n      <th>shop_id</th>\n      <th>item_id</th>\n      <th>item_cnt_month</th>\n      <th>item_target_enc</th>\n    </tr>\n  </thead>\n  <tbody>\n    <tr>\n      <th>0</th>\n      <td>0</td>\n      <td>0</td>\n      <td>19</td>\n      <td>0.0</td>\n      <td>0.334300</td>\n    </tr>\n    <tr>\n      <th>1</th>\n      <td>0</td>\n      <td>0</td>\n      <td>27</td>\n      <td>0.0</td>\n      <td>0.048523</td>\n    </tr>\n    <tr>\n      <th>2</th>\n      <td>0</td>\n      <td>0</td>\n      <td>28</td>\n      <td>0.0</td>\n      <td>0.142424</td>\n    </tr>\n    <tr>\n      <th>3</th>\n      <td>0</td>\n      <td>0</td>\n      <td>29</td>\n      <td>0.0</td>\n      <td>0.030303</td>\n    </tr>\n    <tr>\n      <th>4</th>\n      <td>0</td>\n      <td>0</td>\n      <td>32</td>\n      <td>6.0</td>\n      <td>0.894020</td>\n    </tr>\n    <tr>\n      <th>5</th>\n      <td>0</td>\n      <td>0</td>\n      <td>33</td>\n      <td>3.0</td>\n      <td>0.485238</td>\n    </tr>\n    <tr>\n      <th>6</th>\n      <td>0</td>\n      <td>0</td>\n      <td>34</td>\n      <td>0.0</td>\n      <td>0.107018</td>\n    </tr>\n    <tr>\n      <th>7</th>\n      <td>0</td>\n      <td>0</td>\n      <td>35</td>\n      <td>1.0</td>\n      <td>0.020408</td>\n    </tr>\n    <tr>\n      <th>8</th>\n      <td>0</td>\n      <td>0</td>\n      <td>40</td>\n      <td>0.0</td>\n      <td>0.054717</td>\n    </tr>\n    <tr>\n      <th>9</th>\n      <td>0</td>\n      <td>0</td>\n      <td>41</td>\n      <td>0.0</td>\n      <td>0.038136</td>\n    </tr>\n    <tr>\n      <th>10</th>\n      <td>0</td>\n      <td>0</td>\n      <td>42</td>\n      <td>0.0</td>\n      <td>0.063331</td>\n    </tr>\n    <tr>\n      <th>11</th>\n      <td>0</td>\n      <td>0</td>\n      <td>43</td>\n      <td>1.0</td>\n      <td>0.040000</td>\n    </tr>\n    <tr>\n      <th>12</th>\n      <td>0</td>\n      <td>0</td>\n      <td>44</td>\n      <td>0.0</td>\n      <td>0.078091</td>\n    </tr>\n    <tr>\n      <th>13</th>\n      <td>0</td>\n      <td>0</td>\n      <td>45</td>\n      <td>0.0</td>\n      <td>0.106737</td>\n    </tr>\n    <tr>\n      <th>14</th>\n      <td>0</td>\n      <td>0</td>\n      <td>46</td>\n      <td>0.0</td>\n      <td>0.049808</td>\n    </tr>\n    <tr>\n      <th>15</th>\n      <td>0</td>\n      <td>0</td>\n      <td>47</td>\n      <td>0.0</td>\n      <td>0.041667</td>\n    </tr>\n    <tr>\n      <th>16</th>\n      <td>0</td>\n      <td>0</td>\n      <td>48</td>\n      <td>0.0</td>\n      <td>0.040388</td>\n    </tr>\n    <tr>\n      <th>17</th>\n      <td>0</td>\n      <td>0</td>\n      <td>49</td>\n      <td>0.0</td>\n      <td>0.098410</td>\n    </tr>\n    <tr>\n      <th>18</th>\n      <td>0</td>\n      <td>0</td>\n      <td>50</td>\n      <td>0.0</td>\n      <td>0.334300</td>\n    </tr>\n    <tr>\n      <th>19</th>\n      <td>0</td>\n      <td>0</td>\n      <td>51</td>\n      <td>2.0</td>\n      <td>0.117335</td>\n    </tr>\n    <tr>\n      <th>20</th>\n      <td>0</td>\n      <td>0</td>\n      <td>52</td>\n      <td>0.0</td>\n      <td>0.046131</td>\n    </tr>\n    <tr>\n      <th>21</th>\n      <td>0</td>\n      <td>0</td>\n      <td>53</td>\n      <td>0.0</td>\n      <td>0.117335</td>\n    </tr>\n    <tr>\n      <th>22</th>\n      <td>0</td>\n      <td>0</td>\n      <td>54</td>\n      <td>0.0</td>\n      <td>0.056738</td>\n    </tr>\n    <tr>\n      <th>23</th>\n      <td>0</td>\n      <td>0</td>\n      <td>55</td>\n      <td>0.0</td>\n      <td>0.124561</td>\n    </tr>\n    <tr>\n      <th>24</th>\n      <td>0</td>\n      <td>0</td>\n      <td>56</td>\n      <td>0.0</td>\n      <td>0.042463</td>\n    </tr>\n    <tr>\n      <th>25</th>\n      <td>0</td>\n      <td>0</td>\n      <td>57</td>\n      <td>0.0</td>\n      <td>0.097653</td>\n    </tr>\n    <tr>\n      <th>26</th>\n      <td>0</td>\n      <td>0</td>\n      <td>59</td>\n      <td>0.0</td>\n      <td>0.131455</td>\n    </tr>\n    <tr>\n      <th>27</th>\n      <td>0</td>\n      <td>0</td>\n      <td>60</td>\n      <td>0.0</td>\n      <td>0.067138</td>\n    </tr>\n    <tr>\n      <th>28</th>\n      <td>0</td>\n      <td>0</td>\n      <td>61</td>\n      <td>1.0</td>\n      <td>0.000000</td>\n    </tr>\n    <tr>\n      <th>29</th>\n      <td>0</td>\n      <td>0</td>\n      <td>63</td>\n      <td>0.0</td>\n      <td>0.036364</td>\n    </tr>\n    <tr>\n      <th>...</th>\n      <td>...</td>\n      <td>...</td>\n      <td>...</td>\n      <td>...</td>\n      <td>...</td>\n    </tr>\n    <tr>\n      <th>10913820</th>\n      <td>33</td>\n      <td>59</td>\n      <td>22020</td>\n      <td>0.0</td>\n      <td>1.030675</td>\n    </tr>\n    <tr>\n      <th>10913821</th>\n      <td>33</td>\n      <td>59</td>\n      <td>22050</td>\n      <td>0.0</td>\n      <td>0.184644</td>\n    </tr>\n    <tr>\n      <th>10913822</th>\n      <td>33</td>\n      <td>59</td>\n      <td>22051</td>\n      <td>0.0</td>\n      <td>0.334300</td>\n    </tr>\n    <tr>\n      <th>10913823</th>\n      <td>33</td>\n      <td>59</td>\n      <td>22058</td>\n      <td>0.0</td>\n      <td>1.925700</td>\n    </tr>\n    <tr>\n      <th>10913824</th>\n      <td>33</td>\n      <td>59</td>\n      <td>22059</td>\n      <td>0.0</td>\n      <td>0.175172</td>\n    </tr>\n    <tr>\n      <th>10913825</th>\n      <td>33</td>\n      <td>59</td>\n      <td>22060</td>\n      <td>0.0</td>\n      <td>0.457978</td>\n    </tr>\n    <tr>\n      <th>10913826</th>\n      <td>33</td>\n      <td>59</td>\n      <td>22071</td>\n      <td>0.0</td>\n      <td>0.220441</td>\n    </tr>\n    <tr>\n      <th>10913827</th>\n      <td>33</td>\n      <td>59</td>\n      <td>22072</td>\n      <td>0.0</td>\n      <td>0.894942</td>\n    </tr>\n    <tr>\n      <th>10913828</th>\n      <td>33</td>\n      <td>59</td>\n      <td>22076</td>\n      <td>0.0</td>\n      <td>1.866540</td>\n    </tr>\n    <tr>\n      <th>10913829</th>\n      <td>33</td>\n      <td>59</td>\n      <td>22087</td>\n      <td>6.0</td>\n      <td>2.333052</td>\n    </tr>\n    <tr>\n      <th>10913830</th>\n      <td>33</td>\n      <td>59</td>\n      <td>22088</td>\n      <td>2.0</td>\n      <td>3.155143</td>\n    </tr>\n    <tr>\n      <th>10913831</th>\n      <td>33</td>\n      <td>59</td>\n      <td>22091</td>\n      <td>1.0</td>\n      <td>0.722597</td>\n    </tr>\n    <tr>\n      <th>10913832</th>\n      <td>33</td>\n      <td>59</td>\n      <td>22092</td>\n      <td>0.0</td>\n      <td>1.428331</td>\n    </tr>\n    <tr>\n      <th>10913833</th>\n      <td>33</td>\n      <td>59</td>\n      <td>22100</td>\n      <td>1.0</td>\n      <td>0.334300</td>\n    </tr>\n    <tr>\n      <th>10913834</th>\n      <td>33</td>\n      <td>59</td>\n      <td>22101</td>\n      <td>0.0</td>\n      <td>0.334300</td>\n    </tr>\n    <tr>\n      <th>10913835</th>\n      <td>33</td>\n      <td>59</td>\n      <td>22102</td>\n      <td>1.0</td>\n      <td>0.334300</td>\n    </tr>\n    <tr>\n      <th>10913836</th>\n      <td>33</td>\n      <td>59</td>\n      <td>22104</td>\n      <td>0.0</td>\n      <td>0.334300</td>\n    </tr>\n    <tr>\n      <th>10913837</th>\n      <td>33</td>\n      <td>59</td>\n      <td>22105</td>\n      <td>0.0</td>\n      <td>0.068047</td>\n    </tr>\n    <tr>\n      <th>10913838</th>\n      <td>33</td>\n      <td>59</td>\n      <td>22106</td>\n      <td>0.0</td>\n      <td>0.124077</td>\n    </tr>\n    <tr>\n      <th>10913839</th>\n      <td>33</td>\n      <td>59</td>\n      <td>22111</td>\n      <td>0.0</td>\n      <td>0.122260</td>\n    </tr>\n    <tr>\n      <th>10913840</th>\n      <td>33</td>\n      <td>59</td>\n      <td>22118</td>\n      <td>0.0</td>\n      <td>0.565657</td>\n    </tr>\n    <tr>\n      <th>10913841</th>\n      <td>33</td>\n      <td>59</td>\n      <td>22139</td>\n      <td>0.0</td>\n      <td>0.245363</td>\n    </tr>\n    <tr>\n      <th>10913842</th>\n      <td>33</td>\n      <td>59</td>\n      <td>22145</td>\n      <td>0.0</td>\n      <td>0.685268</td>\n    </tr>\n    <tr>\n      <th>10913843</th>\n      <td>33</td>\n      <td>59</td>\n      <td>22154</td>\n      <td>0.0</td>\n      <td>0.098630</td>\n    </tr>\n    <tr>\n      <th>10913844</th>\n      <td>33</td>\n      <td>59</td>\n      <td>22158</td>\n      <td>0.0</td>\n      <td>0.334300</td>\n    </tr>\n    <tr>\n      <th>10913845</th>\n      <td>33</td>\n      <td>59</td>\n      <td>22162</td>\n      <td>0.0</td>\n      <td>0.020000</td>\n    </tr>\n    <tr>\n      <th>10913846</th>\n      <td>33</td>\n      <td>59</td>\n      <td>22163</td>\n      <td>0.0</td>\n      <td>0.334300</td>\n    </tr>\n    <tr>\n      <th>10913847</th>\n      <td>33</td>\n      <td>59</td>\n      <td>22164</td>\n      <td>0.0</td>\n      <td>0.334300</td>\n    </tr>\n    <tr>\n      <th>10913848</th>\n      <td>33</td>\n      <td>59</td>\n      <td>22166</td>\n      <td>0.0</td>\n      <td>0.349227</td>\n    </tr>\n    <tr>\n      <th>10913849</th>\n      <td>33</td>\n      <td>59</td>\n      <td>22167</td>\n      <td>0.0</td>\n      <td>1.231425</td>\n    </tr>\n  </tbody>\n</table>\n<p>10913850 rows × 5 columns</p>\n</div>"
          },
          "metadata": {}
        }
      ]
    },
    {
      "metadata": {
        "trusted": true,
        "_uuid": "9faba65c64b5c2c2acf637de96930387025706c8"
      },
      "cell_type": "code",
      "source": "",
      "execution_count": null,
      "outputs": []
    }
  ],
  "metadata": {
    "kernelspec": {
      "display_name": "Python 3",
      "language": "python",
      "name": "python3"
    },
    "language_info": {
      "name": "python",
      "version": "3.6.6",
      "mimetype": "text/x-python",
      "codemirror_mode": {
        "name": "ipython",
        "version": 3
      },
      "pygments_lexer": "ipython3",
      "nbconvert_exporter": "python",
      "file_extension": ".py"
    }
  },
  "nbformat": 4,
  "nbformat_minor": 1
}